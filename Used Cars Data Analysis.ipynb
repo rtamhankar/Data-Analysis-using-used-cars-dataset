{
 "cells": [
  {
   "cell_type": "code",
   "execution_count": 1,
   "metadata": {
    "hideCode": false,
    "hidePrompt": false
   },
   "outputs": [],
   "source": [
    "import pandas as pd\n",
    "import numpy as np\n",
    "import seaborn as sns\n",
    "df = pd.read_csv('craigslistVehicles.csv', index_col=0)"
   ]
  },
  {
   "cell_type": "code",
   "execution_count": 2,
   "metadata": {
    "hideCode": false,
    "hidePrompt": false
   },
   "outputs": [
    {
     "data": {
      "text/html": [
       "<div>\n",
       "<style scoped>\n",
       "    .dataframe tbody tr th:only-of-type {\n",
       "        vertical-align: middle;\n",
       "    }\n",
       "\n",
       "    .dataframe tbody tr th {\n",
       "        vertical-align: top;\n",
       "    }\n",
       "\n",
       "    .dataframe thead th {\n",
       "        text-align: right;\n",
       "    }\n",
       "</style>\n",
       "<table border=\"1\" class=\"dataframe\">\n",
       "  <thead>\n",
       "    <tr style=\"text-align: right;\">\n",
       "      <th></th>\n",
       "      <th>city</th>\n",
       "      <th>city_url</th>\n",
       "      <th>price</th>\n",
       "      <th>year</th>\n",
       "      <th>manufacturer</th>\n",
       "      <th>make</th>\n",
       "      <th>condition</th>\n",
       "      <th>cylinders</th>\n",
       "      <th>fuel</th>\n",
       "      <th>odometer</th>\n",
       "      <th>...</th>\n",
       "      <th>transmission</th>\n",
       "      <th>VIN</th>\n",
       "      <th>drive</th>\n",
       "      <th>size</th>\n",
       "      <th>type</th>\n",
       "      <th>paint_color</th>\n",
       "      <th>image_url</th>\n",
       "      <th>desc</th>\n",
       "      <th>lat</th>\n",
       "      <th>long</th>\n",
       "    </tr>\n",
       "    <tr>\n",
       "      <th>url</th>\n",
       "      <th></th>\n",
       "      <th></th>\n",
       "      <th></th>\n",
       "      <th></th>\n",
       "      <th></th>\n",
       "      <th></th>\n",
       "      <th></th>\n",
       "      <th></th>\n",
       "      <th></th>\n",
       "      <th></th>\n",
       "      <th></th>\n",
       "      <th></th>\n",
       "      <th></th>\n",
       "      <th></th>\n",
       "      <th></th>\n",
       "      <th></th>\n",
       "      <th></th>\n",
       "      <th></th>\n",
       "      <th></th>\n",
       "      <th></th>\n",
       "      <th></th>\n",
       "    </tr>\n",
       "  </thead>\n",
       "  <tbody>\n",
       "    <tr>\n",
       "      <th>https://abilene.craigslist.org/cto/d/abilene-2006-chevy-equinox/6977574118.html</th>\n",
       "      <td>abilene, TX</td>\n",
       "      <td>https://abilene.craigslist.org</td>\n",
       "      <td>3500</td>\n",
       "      <td>2006.0</td>\n",
       "      <td>chevrolet</td>\n",
       "      <td>NaN</td>\n",
       "      <td>excellent</td>\n",
       "      <td>6 cylinders</td>\n",
       "      <td>gas</td>\n",
       "      <td>113000.0</td>\n",
       "      <td>...</td>\n",
       "      <td>automatic</td>\n",
       "      <td>NaN</td>\n",
       "      <td>NaN</td>\n",
       "      <td>NaN</td>\n",
       "      <td>NaN</td>\n",
       "      <td>white</td>\n",
       "      <td>https://images.craigslist.org/00e0e_iduGuXQ3P0...</td>\n",
       "      <td>2006 Chevy Equinox with only 113,000 miles. V6...</td>\n",
       "      <td>32.401556</td>\n",
       "      <td>-99.884713</td>\n",
       "    </tr>\n",
       "    <tr>\n",
       "      <th>https://abilene.craigslist.org/cto/d/austin-2002-lexus-es300/6977543697.html</th>\n",
       "      <td>abilene, TX</td>\n",
       "      <td>https://abilene.craigslist.org</td>\n",
       "      <td>3399</td>\n",
       "      <td>2002.0</td>\n",
       "      <td>lexus</td>\n",
       "      <td>es300</td>\n",
       "      <td>good</td>\n",
       "      <td>6 cylinders</td>\n",
       "      <td>gas</td>\n",
       "      <td>140000.0</td>\n",
       "      <td>...</td>\n",
       "      <td>automatic</td>\n",
       "      <td>NaN</td>\n",
       "      <td>NaN</td>\n",
       "      <td>NaN</td>\n",
       "      <td>NaN</td>\n",
       "      <td>NaN</td>\n",
       "      <td>https://images.craigslist.org/00000_fJJiWIlx3z...</td>\n",
       "      <td>Nice and very reliable luxury family sedan.  A...</td>\n",
       "      <td>30.120400</td>\n",
       "      <td>-97.743300</td>\n",
       "    </tr>\n",
       "    <tr>\n",
       "      <th>https://abilene.craigslist.org/cto/d/aspermont-2009-chevrolet-suburban-lt/6977351526.html</th>\n",
       "      <td>abilene, TX</td>\n",
       "      <td>https://abilene.craigslist.org</td>\n",
       "      <td>9000</td>\n",
       "      <td>2009.0</td>\n",
       "      <td>chevrolet</td>\n",
       "      <td>suburban lt2</td>\n",
       "      <td>good</td>\n",
       "      <td>8 cylinders</td>\n",
       "      <td>gas</td>\n",
       "      <td>217743.0</td>\n",
       "      <td>...</td>\n",
       "      <td>automatic</td>\n",
       "      <td>1GFNC26099R211276</td>\n",
       "      <td>rwd</td>\n",
       "      <td>full-size</td>\n",
       "      <td>SUV</td>\n",
       "      <td>white</td>\n",
       "      <td>https://images.craigslist.org/00909_5P6f1E6zHl...</td>\n",
       "      <td>2WD 1/2 ton\\nLeather Captains Chairs\\nIn good ...</td>\n",
       "      <td>33.130100</td>\n",
       "      <td>-100.234400</td>\n",
       "    </tr>\n",
       "    <tr>\n",
       "      <th>https://abilene.craigslist.org/ctd/d/liberty-hill-2012-ram-2500-slt-mega-cab/6977347322.html</th>\n",
       "      <td>abilene, TX</td>\n",
       "      <td>https://abilene.craigslist.org</td>\n",
       "      <td>31999</td>\n",
       "      <td>2012.0</td>\n",
       "      <td>ram</td>\n",
       "      <td>2500</td>\n",
       "      <td>NaN</td>\n",
       "      <td>NaN</td>\n",
       "      <td>diesel</td>\n",
       "      <td>NaN</td>\n",
       "      <td>...</td>\n",
       "      <td>automatic</td>\n",
       "      <td>NaN</td>\n",
       "      <td>NaN</td>\n",
       "      <td>NaN</td>\n",
       "      <td>NaN</td>\n",
       "      <td>NaN</td>\n",
       "      <td>https://images.craigslist.org/00u0u_24XW8uhLYP...</td>\n",
       "      <td>www.GETADIESEL.com\\n2012 RAM 2500 SLT 4X4 MEGA...</td>\n",
       "      <td>30.648368</td>\n",
       "      <td>-97.862949</td>\n",
       "    </tr>\n",
       "    <tr>\n",
       "      <th>https://abilene.craigslist.org/ctd/d/liberty-hill-2003-dodge-ram-3500/6977302857.html</th>\n",
       "      <td>abilene, TX</td>\n",
       "      <td>https://abilene.craigslist.org</td>\n",
       "      <td>16990</td>\n",
       "      <td>2003.0</td>\n",
       "      <td>ram</td>\n",
       "      <td>3500</td>\n",
       "      <td>NaN</td>\n",
       "      <td>NaN</td>\n",
       "      <td>diesel</td>\n",
       "      <td>NaN</td>\n",
       "      <td>...</td>\n",
       "      <td>manual</td>\n",
       "      <td>NaN</td>\n",
       "      <td>NaN</td>\n",
       "      <td>NaN</td>\n",
       "      <td>NaN</td>\n",
       "      <td>NaN</td>\n",
       "      <td>https://images.craigslist.org/00l0l_H1UKTJ4sTI...</td>\n",
       "      <td>www.GETADIESEL.com\\n2003 DODGE RAM 3500 LARAMI...</td>\n",
       "      <td>30.648516</td>\n",
       "      <td>-97.862434</td>\n",
       "    </tr>\n",
       "  </tbody>\n",
       "</table>\n",
       "<p>5 rows × 21 columns</p>\n",
       "</div>"
      ],
      "text/plain": [
       "                                                           city  \\\n",
       "url                                                               \n",
       "https://abilene.craigslist.org/cto/d/abilene-20...  abilene, TX   \n",
       "https://abilene.craigslist.org/cto/d/austin-200...  abilene, TX   \n",
       "https://abilene.craigslist.org/cto/d/aspermont-...  abilene, TX   \n",
       "https://abilene.craigslist.org/ctd/d/liberty-hi...  abilene, TX   \n",
       "https://abilene.craigslist.org/ctd/d/liberty-hi...  abilene, TX   \n",
       "\n",
       "                                                                          city_url  \\\n",
       "url                                                                                  \n",
       "https://abilene.craigslist.org/cto/d/abilene-20...  https://abilene.craigslist.org   \n",
       "https://abilene.craigslist.org/cto/d/austin-200...  https://abilene.craigslist.org   \n",
       "https://abilene.craigslist.org/cto/d/aspermont-...  https://abilene.craigslist.org   \n",
       "https://abilene.craigslist.org/ctd/d/liberty-hi...  https://abilene.craigslist.org   \n",
       "https://abilene.craigslist.org/ctd/d/liberty-hi...  https://abilene.craigslist.org   \n",
       "\n",
       "                                                    price    year  \\\n",
       "url                                                                 \n",
       "https://abilene.craigslist.org/cto/d/abilene-20...   3500  2006.0   \n",
       "https://abilene.craigslist.org/cto/d/austin-200...   3399  2002.0   \n",
       "https://abilene.craigslist.org/cto/d/aspermont-...   9000  2009.0   \n",
       "https://abilene.craigslist.org/ctd/d/liberty-hi...  31999  2012.0   \n",
       "https://abilene.craigslist.org/ctd/d/liberty-hi...  16990  2003.0   \n",
       "\n",
       "                                                   manufacturer          make  \\\n",
       "url                                                                             \n",
       "https://abilene.craigslist.org/cto/d/abilene-20...    chevrolet           NaN   \n",
       "https://abilene.craigslist.org/cto/d/austin-200...        lexus         es300   \n",
       "https://abilene.craigslist.org/cto/d/aspermont-...    chevrolet  suburban lt2   \n",
       "https://abilene.craigslist.org/ctd/d/liberty-hi...          ram          2500   \n",
       "https://abilene.craigslist.org/ctd/d/liberty-hi...          ram          3500   \n",
       "\n",
       "                                                    condition    cylinders  \\\n",
       "url                                                                          \n",
       "https://abilene.craigslist.org/cto/d/abilene-20...  excellent  6 cylinders   \n",
       "https://abilene.craigslist.org/cto/d/austin-200...       good  6 cylinders   \n",
       "https://abilene.craigslist.org/cto/d/aspermont-...       good  8 cylinders   \n",
       "https://abilene.craigslist.org/ctd/d/liberty-hi...        NaN          NaN   \n",
       "https://abilene.craigslist.org/ctd/d/liberty-hi...        NaN          NaN   \n",
       "\n",
       "                                                      fuel  odometer  ...  \\\n",
       "url                                                                   ...   \n",
       "https://abilene.craigslist.org/cto/d/abilene-20...     gas  113000.0  ...   \n",
       "https://abilene.craigslist.org/cto/d/austin-200...     gas  140000.0  ...   \n",
       "https://abilene.craigslist.org/cto/d/aspermont-...     gas  217743.0  ...   \n",
       "https://abilene.craigslist.org/ctd/d/liberty-hi...  diesel       NaN  ...   \n",
       "https://abilene.craigslist.org/ctd/d/liberty-hi...  diesel       NaN  ...   \n",
       "\n",
       "                                                   transmission  \\\n",
       "url                                                               \n",
       "https://abilene.craigslist.org/cto/d/abilene-20...    automatic   \n",
       "https://abilene.craigslist.org/cto/d/austin-200...    automatic   \n",
       "https://abilene.craigslist.org/cto/d/aspermont-...    automatic   \n",
       "https://abilene.craigslist.org/ctd/d/liberty-hi...    automatic   \n",
       "https://abilene.craigslist.org/ctd/d/liberty-hi...       manual   \n",
       "\n",
       "                                                                  VIN drive  \\\n",
       "url                                                                           \n",
       "https://abilene.craigslist.org/cto/d/abilene-20...                NaN   NaN   \n",
       "https://abilene.craigslist.org/cto/d/austin-200...                NaN   NaN   \n",
       "https://abilene.craigslist.org/cto/d/aspermont-...  1GFNC26099R211276   rwd   \n",
       "https://abilene.craigslist.org/ctd/d/liberty-hi...                NaN   NaN   \n",
       "https://abilene.craigslist.org/ctd/d/liberty-hi...                NaN   NaN   \n",
       "\n",
       "                                                         size type  \\\n",
       "url                                                                  \n",
       "https://abilene.craigslist.org/cto/d/abilene-20...        NaN  NaN   \n",
       "https://abilene.craigslist.org/cto/d/austin-200...        NaN  NaN   \n",
       "https://abilene.craigslist.org/cto/d/aspermont-...  full-size  SUV   \n",
       "https://abilene.craigslist.org/ctd/d/liberty-hi...        NaN  NaN   \n",
       "https://abilene.craigslist.org/ctd/d/liberty-hi...        NaN  NaN   \n",
       "\n",
       "                                                   paint_color  \\\n",
       "url                                                              \n",
       "https://abilene.craigslist.org/cto/d/abilene-20...       white   \n",
       "https://abilene.craigslist.org/cto/d/austin-200...         NaN   \n",
       "https://abilene.craigslist.org/cto/d/aspermont-...       white   \n",
       "https://abilene.craigslist.org/ctd/d/liberty-hi...         NaN   \n",
       "https://abilene.craigslist.org/ctd/d/liberty-hi...         NaN   \n",
       "\n",
       "                                                                                            image_url  \\\n",
       "url                                                                                                     \n",
       "https://abilene.craigslist.org/cto/d/abilene-20...  https://images.craigslist.org/00e0e_iduGuXQ3P0...   \n",
       "https://abilene.craigslist.org/cto/d/austin-200...  https://images.craigslist.org/00000_fJJiWIlx3z...   \n",
       "https://abilene.craigslist.org/cto/d/aspermont-...  https://images.craigslist.org/00909_5P6f1E6zHl...   \n",
       "https://abilene.craigslist.org/ctd/d/liberty-hi...  https://images.craigslist.org/00u0u_24XW8uhLYP...   \n",
       "https://abilene.craigslist.org/ctd/d/liberty-hi...  https://images.craigslist.org/00l0l_H1UKTJ4sTI...   \n",
       "\n",
       "                                                                                                 desc  \\\n",
       "url                                                                                                     \n",
       "https://abilene.craigslist.org/cto/d/abilene-20...  2006 Chevy Equinox with only 113,000 miles. V6...   \n",
       "https://abilene.craigslist.org/cto/d/austin-200...  Nice and very reliable luxury family sedan.  A...   \n",
       "https://abilene.craigslist.org/cto/d/aspermont-...  2WD 1/2 ton\\nLeather Captains Chairs\\nIn good ...   \n",
       "https://abilene.craigslist.org/ctd/d/liberty-hi...  www.GETADIESEL.com\\n2012 RAM 2500 SLT 4X4 MEGA...   \n",
       "https://abilene.craigslist.org/ctd/d/liberty-hi...  www.GETADIESEL.com\\n2003 DODGE RAM 3500 LARAMI...   \n",
       "\n",
       "                                                          lat        long  \n",
       "url                                                                        \n",
       "https://abilene.craigslist.org/cto/d/abilene-20...  32.401556  -99.884713  \n",
       "https://abilene.craigslist.org/cto/d/austin-200...  30.120400  -97.743300  \n",
       "https://abilene.craigslist.org/cto/d/aspermont-...  33.130100 -100.234400  \n",
       "https://abilene.craigslist.org/ctd/d/liberty-hi...  30.648368  -97.862949  \n",
       "https://abilene.craigslist.org/ctd/d/liberty-hi...  30.648516  -97.862434  \n",
       "\n",
       "[5 rows x 21 columns]"
      ]
     },
     "execution_count": 2,
     "metadata": {},
     "output_type": "execute_result"
    }
   ],
   "source": [
    "df.head()"
   ]
  },
  {
   "cell_type": "code",
   "execution_count": 3,
   "metadata": {
    "hideCode": false,
    "hidePrompt": false
   },
   "outputs": [
    {
     "data": {
      "text/html": [
       "<div>\n",
       "<style scoped>\n",
       "    .dataframe tbody tr th:only-of-type {\n",
       "        vertical-align: middle;\n",
       "    }\n",
       "\n",
       "    .dataframe tbody tr th {\n",
       "        vertical-align: top;\n",
       "    }\n",
       "\n",
       "    .dataframe thead th {\n",
       "        text-align: right;\n",
       "    }\n",
       "</style>\n",
       "<table border=\"1\" class=\"dataframe\">\n",
       "  <thead>\n",
       "    <tr style=\"text-align: right;\">\n",
       "      <th></th>\n",
       "      <th>price</th>\n",
       "      <th>year</th>\n",
       "      <th>odometer</th>\n",
       "      <th>lat</th>\n",
       "      <th>long</th>\n",
       "    </tr>\n",
       "  </thead>\n",
       "  <tbody>\n",
       "    <tr>\n",
       "      <th>count</th>\n",
       "      <td>5.459370e+05</td>\n",
       "      <td>544579.000000</td>\n",
       "      <td>4.359210e+05</td>\n",
       "      <td>538497.000000</td>\n",
       "      <td>538497.000000</td>\n",
       "    </tr>\n",
       "    <tr>\n",
       "      <th>mean</th>\n",
       "      <td>7.988391e+04</td>\n",
       "      <td>2008.535351</td>\n",
       "      <td>1.035782e+05</td>\n",
       "      <td>38.451998</td>\n",
       "      <td>-93.888092</td>\n",
       "    </tr>\n",
       "    <tr>\n",
       "      <th>std</th>\n",
       "      <td>1.411569e+07</td>\n",
       "      <td>9.796550</td>\n",
       "      <td>2.643065e+05</td>\n",
       "      <td>5.847031</td>\n",
       "      <td>17.527891</td>\n",
       "    </tr>\n",
       "    <tr>\n",
       "      <th>min</th>\n",
       "      <td>0.000000e+00</td>\n",
       "      <td>1900.000000</td>\n",
       "      <td>0.000000e+00</td>\n",
       "      <td>-117.194513</td>\n",
       "      <td>-175.649414</td>\n",
       "    </tr>\n",
       "    <tr>\n",
       "      <th>25%</th>\n",
       "      <td>3.800000e+03</td>\n",
       "      <td>2006.000000</td>\n",
       "      <td>4.935300e+04</td>\n",
       "      <td>34.770919</td>\n",
       "      <td>-106.443704</td>\n",
       "    </tr>\n",
       "    <tr>\n",
       "      <th>50%</th>\n",
       "      <td>8.985000e+03</td>\n",
       "      <td>2011.000000</td>\n",
       "      <td>9.600000e+04</td>\n",
       "      <td>39.123441</td>\n",
       "      <td>-88.146900</td>\n",
       "    </tr>\n",
       "    <tr>\n",
       "      <th>75%</th>\n",
       "      <td>1.749900e+04</td>\n",
       "      <td>2015.000000</td>\n",
       "      <td>1.403110e+05</td>\n",
       "      <td>42.424539</td>\n",
       "      <td>-80.838647</td>\n",
       "    </tr>\n",
       "    <tr>\n",
       "      <th>max</th>\n",
       "      <td>4.294964e+09</td>\n",
       "      <td>2020.000000</td>\n",
       "      <td>1.478218e+08</td>\n",
       "      <td>80.261522</td>\n",
       "      <td>117.603130</td>\n",
       "    </tr>\n",
       "  </tbody>\n",
       "</table>\n",
       "</div>"
      ],
      "text/plain": [
       "              price           year      odometer            lat           long\n",
       "count  5.459370e+05  544579.000000  4.359210e+05  538497.000000  538497.000000\n",
       "mean   7.988391e+04    2008.535351  1.035782e+05      38.451998     -93.888092\n",
       "std    1.411569e+07       9.796550  2.643065e+05       5.847031      17.527891\n",
       "min    0.000000e+00    1900.000000  0.000000e+00    -117.194513    -175.649414\n",
       "25%    3.800000e+03    2006.000000  4.935300e+04      34.770919    -106.443704\n",
       "50%    8.985000e+03    2011.000000  9.600000e+04      39.123441     -88.146900\n",
       "75%    1.749900e+04    2015.000000  1.403110e+05      42.424539     -80.838647\n",
       "max    4.294964e+09    2020.000000  1.478218e+08      80.261522     117.603130"
      ]
     },
     "execution_count": 3,
     "metadata": {},
     "output_type": "execute_result"
    }
   ],
   "source": [
    "df.describe()"
   ]
  },
  {
   "cell_type": "code",
   "execution_count": 4,
   "metadata": {
    "hideCode": false,
    "hidePrompt": false
   },
   "outputs": [],
   "source": [
    "pd.set_option('display.max_columns', None)"
   ]
  },
  {
   "cell_type": "code",
   "execution_count": 5,
   "metadata": {
    "hideCode": false,
    "hidePrompt": false
   },
   "outputs": [
    {
     "data": {
      "text/html": [
       "<div>\n",
       "<style scoped>\n",
       "    .dataframe tbody tr th:only-of-type {\n",
       "        vertical-align: middle;\n",
       "    }\n",
       "\n",
       "    .dataframe tbody tr th {\n",
       "        vertical-align: top;\n",
       "    }\n",
       "\n",
       "    .dataframe thead th {\n",
       "        text-align: right;\n",
       "    }\n",
       "</style>\n",
       "<table border=\"1\" class=\"dataframe\">\n",
       "  <thead>\n",
       "    <tr style=\"text-align: right;\">\n",
       "      <th></th>\n",
       "      <th>city</th>\n",
       "      <th>city_url</th>\n",
       "      <th>price</th>\n",
       "      <th>year</th>\n",
       "      <th>manufacturer</th>\n",
       "      <th>make</th>\n",
       "      <th>condition</th>\n",
       "      <th>cylinders</th>\n",
       "      <th>fuel</th>\n",
       "      <th>odometer</th>\n",
       "      <th>title_status</th>\n",
       "      <th>transmission</th>\n",
       "      <th>VIN</th>\n",
       "      <th>drive</th>\n",
       "      <th>size</th>\n",
       "      <th>type</th>\n",
       "      <th>paint_color</th>\n",
       "      <th>image_url</th>\n",
       "      <th>desc</th>\n",
       "      <th>lat</th>\n",
       "      <th>long</th>\n",
       "    </tr>\n",
       "    <tr>\n",
       "      <th>url</th>\n",
       "      <th></th>\n",
       "      <th></th>\n",
       "      <th></th>\n",
       "      <th></th>\n",
       "      <th></th>\n",
       "      <th></th>\n",
       "      <th></th>\n",
       "      <th></th>\n",
       "      <th></th>\n",
       "      <th></th>\n",
       "      <th></th>\n",
       "      <th></th>\n",
       "      <th></th>\n",
       "      <th></th>\n",
       "      <th></th>\n",
       "      <th></th>\n",
       "      <th></th>\n",
       "      <th></th>\n",
       "      <th></th>\n",
       "      <th></th>\n",
       "      <th></th>\n",
       "    </tr>\n",
       "  </thead>\n",
       "  <tbody>\n",
       "    <tr>\n",
       "      <th>https://abilene.craigslist.org/cto/d/abilene-2006-chevy-equinox/6977574118.html</th>\n",
       "      <td>abilene, TX</td>\n",
       "      <td>https://abilene.craigslist.org</td>\n",
       "      <td>3500</td>\n",
       "      <td>2006.0</td>\n",
       "      <td>chevrolet</td>\n",
       "      <td>NaN</td>\n",
       "      <td>excellent</td>\n",
       "      <td>6 cylinders</td>\n",
       "      <td>gas</td>\n",
       "      <td>113000.0</td>\n",
       "      <td>clean</td>\n",
       "      <td>automatic</td>\n",
       "      <td>NaN</td>\n",
       "      <td>NaN</td>\n",
       "      <td>NaN</td>\n",
       "      <td>NaN</td>\n",
       "      <td>white</td>\n",
       "      <td>https://images.craigslist.org/00e0e_iduGuXQ3P0...</td>\n",
       "      <td>2006 Chevy Equinox with only 113,000 miles. V6...</td>\n",
       "      <td>32.401556</td>\n",
       "      <td>-99.884713</td>\n",
       "    </tr>\n",
       "    <tr>\n",
       "      <th>https://abilene.craigslist.org/cto/d/austin-2002-lexus-es300/6977543697.html</th>\n",
       "      <td>abilene, TX</td>\n",
       "      <td>https://abilene.craigslist.org</td>\n",
       "      <td>3399</td>\n",
       "      <td>2002.0</td>\n",
       "      <td>lexus</td>\n",
       "      <td>es300</td>\n",
       "      <td>good</td>\n",
       "      <td>6 cylinders</td>\n",
       "      <td>gas</td>\n",
       "      <td>140000.0</td>\n",
       "      <td>clean</td>\n",
       "      <td>automatic</td>\n",
       "      <td>NaN</td>\n",
       "      <td>NaN</td>\n",
       "      <td>NaN</td>\n",
       "      <td>NaN</td>\n",
       "      <td>NaN</td>\n",
       "      <td>https://images.craigslist.org/00000_fJJiWIlx3z...</td>\n",
       "      <td>Nice and very reliable luxury family sedan.  A...</td>\n",
       "      <td>30.120400</td>\n",
       "      <td>-97.743300</td>\n",
       "    </tr>\n",
       "    <tr>\n",
       "      <th>https://abilene.craigslist.org/cto/d/aspermont-2009-chevrolet-suburban-lt/6977351526.html</th>\n",
       "      <td>abilene, TX</td>\n",
       "      <td>https://abilene.craigslist.org</td>\n",
       "      <td>9000</td>\n",
       "      <td>2009.0</td>\n",
       "      <td>chevrolet</td>\n",
       "      <td>suburban lt2</td>\n",
       "      <td>good</td>\n",
       "      <td>8 cylinders</td>\n",
       "      <td>gas</td>\n",
       "      <td>217743.0</td>\n",
       "      <td>clean</td>\n",
       "      <td>automatic</td>\n",
       "      <td>1GFNC26099R211276</td>\n",
       "      <td>rwd</td>\n",
       "      <td>full-size</td>\n",
       "      <td>SUV</td>\n",
       "      <td>white</td>\n",
       "      <td>https://images.craigslist.org/00909_5P6f1E6zHl...</td>\n",
       "      <td>2WD 1/2 ton\\nLeather Captains Chairs\\nIn good ...</td>\n",
       "      <td>33.130100</td>\n",
       "      <td>-100.234400</td>\n",
       "    </tr>\n",
       "    <tr>\n",
       "      <th>https://abilene.craigslist.org/ctd/d/liberty-hill-2012-ram-2500-slt-mega-cab/6977347322.html</th>\n",
       "      <td>abilene, TX</td>\n",
       "      <td>https://abilene.craigslist.org</td>\n",
       "      <td>31999</td>\n",
       "      <td>2012.0</td>\n",
       "      <td>ram</td>\n",
       "      <td>2500</td>\n",
       "      <td>NaN</td>\n",
       "      <td>NaN</td>\n",
       "      <td>diesel</td>\n",
       "      <td>NaN</td>\n",
       "      <td>clean</td>\n",
       "      <td>automatic</td>\n",
       "      <td>NaN</td>\n",
       "      <td>NaN</td>\n",
       "      <td>NaN</td>\n",
       "      <td>NaN</td>\n",
       "      <td>NaN</td>\n",
       "      <td>https://images.craigslist.org/00u0u_24XW8uhLYP...</td>\n",
       "      <td>www.GETADIESEL.com\\n2012 RAM 2500 SLT 4X4 MEGA...</td>\n",
       "      <td>30.648368</td>\n",
       "      <td>-97.862949</td>\n",
       "    </tr>\n",
       "    <tr>\n",
       "      <th>https://abilene.craigslist.org/ctd/d/liberty-hill-2003-dodge-ram-3500/6977302857.html</th>\n",
       "      <td>abilene, TX</td>\n",
       "      <td>https://abilene.craigslist.org</td>\n",
       "      <td>16990</td>\n",
       "      <td>2003.0</td>\n",
       "      <td>ram</td>\n",
       "      <td>3500</td>\n",
       "      <td>NaN</td>\n",
       "      <td>NaN</td>\n",
       "      <td>diesel</td>\n",
       "      <td>NaN</td>\n",
       "      <td>clean</td>\n",
       "      <td>manual</td>\n",
       "      <td>NaN</td>\n",
       "      <td>NaN</td>\n",
       "      <td>NaN</td>\n",
       "      <td>NaN</td>\n",
       "      <td>NaN</td>\n",
       "      <td>https://images.craigslist.org/00l0l_H1UKTJ4sTI...</td>\n",
       "      <td>www.GETADIESEL.com\\n2003 DODGE RAM 3500 LARAMI...</td>\n",
       "      <td>30.648516</td>\n",
       "      <td>-97.862434</td>\n",
       "    </tr>\n",
       "  </tbody>\n",
       "</table>\n",
       "</div>"
      ],
      "text/plain": [
       "                                                           city  \\\n",
       "url                                                               \n",
       "https://abilene.craigslist.org/cto/d/abilene-20...  abilene, TX   \n",
       "https://abilene.craigslist.org/cto/d/austin-200...  abilene, TX   \n",
       "https://abilene.craigslist.org/cto/d/aspermont-...  abilene, TX   \n",
       "https://abilene.craigslist.org/ctd/d/liberty-hi...  abilene, TX   \n",
       "https://abilene.craigslist.org/ctd/d/liberty-hi...  abilene, TX   \n",
       "\n",
       "                                                                          city_url  \\\n",
       "url                                                                                  \n",
       "https://abilene.craigslist.org/cto/d/abilene-20...  https://abilene.craigslist.org   \n",
       "https://abilene.craigslist.org/cto/d/austin-200...  https://abilene.craigslist.org   \n",
       "https://abilene.craigslist.org/cto/d/aspermont-...  https://abilene.craigslist.org   \n",
       "https://abilene.craigslist.org/ctd/d/liberty-hi...  https://abilene.craigslist.org   \n",
       "https://abilene.craigslist.org/ctd/d/liberty-hi...  https://abilene.craigslist.org   \n",
       "\n",
       "                                                    price    year  \\\n",
       "url                                                                 \n",
       "https://abilene.craigslist.org/cto/d/abilene-20...   3500  2006.0   \n",
       "https://abilene.craigslist.org/cto/d/austin-200...   3399  2002.0   \n",
       "https://abilene.craigslist.org/cto/d/aspermont-...   9000  2009.0   \n",
       "https://abilene.craigslist.org/ctd/d/liberty-hi...  31999  2012.0   \n",
       "https://abilene.craigslist.org/ctd/d/liberty-hi...  16990  2003.0   \n",
       "\n",
       "                                                   manufacturer          make  \\\n",
       "url                                                                             \n",
       "https://abilene.craigslist.org/cto/d/abilene-20...    chevrolet           NaN   \n",
       "https://abilene.craigslist.org/cto/d/austin-200...        lexus         es300   \n",
       "https://abilene.craigslist.org/cto/d/aspermont-...    chevrolet  suburban lt2   \n",
       "https://abilene.craigslist.org/ctd/d/liberty-hi...          ram          2500   \n",
       "https://abilene.craigslist.org/ctd/d/liberty-hi...          ram          3500   \n",
       "\n",
       "                                                    condition    cylinders  \\\n",
       "url                                                                          \n",
       "https://abilene.craigslist.org/cto/d/abilene-20...  excellent  6 cylinders   \n",
       "https://abilene.craigslist.org/cto/d/austin-200...       good  6 cylinders   \n",
       "https://abilene.craigslist.org/cto/d/aspermont-...       good  8 cylinders   \n",
       "https://abilene.craigslist.org/ctd/d/liberty-hi...        NaN          NaN   \n",
       "https://abilene.craigslist.org/ctd/d/liberty-hi...        NaN          NaN   \n",
       "\n",
       "                                                      fuel  odometer  \\\n",
       "url                                                                    \n",
       "https://abilene.craigslist.org/cto/d/abilene-20...     gas  113000.0   \n",
       "https://abilene.craigslist.org/cto/d/austin-200...     gas  140000.0   \n",
       "https://abilene.craigslist.org/cto/d/aspermont-...     gas  217743.0   \n",
       "https://abilene.craigslist.org/ctd/d/liberty-hi...  diesel       NaN   \n",
       "https://abilene.craigslist.org/ctd/d/liberty-hi...  diesel       NaN   \n",
       "\n",
       "                                                   title_status transmission  \\\n",
       "url                                                                            \n",
       "https://abilene.craigslist.org/cto/d/abilene-20...        clean    automatic   \n",
       "https://abilene.craigslist.org/cto/d/austin-200...        clean    automatic   \n",
       "https://abilene.craigslist.org/cto/d/aspermont-...        clean    automatic   \n",
       "https://abilene.craigslist.org/ctd/d/liberty-hi...        clean    automatic   \n",
       "https://abilene.craigslist.org/ctd/d/liberty-hi...        clean       manual   \n",
       "\n",
       "                                                                  VIN drive  \\\n",
       "url                                                                           \n",
       "https://abilene.craigslist.org/cto/d/abilene-20...                NaN   NaN   \n",
       "https://abilene.craigslist.org/cto/d/austin-200...                NaN   NaN   \n",
       "https://abilene.craigslist.org/cto/d/aspermont-...  1GFNC26099R211276   rwd   \n",
       "https://abilene.craigslist.org/ctd/d/liberty-hi...                NaN   NaN   \n",
       "https://abilene.craigslist.org/ctd/d/liberty-hi...                NaN   NaN   \n",
       "\n",
       "                                                         size type  \\\n",
       "url                                                                  \n",
       "https://abilene.craigslist.org/cto/d/abilene-20...        NaN  NaN   \n",
       "https://abilene.craigslist.org/cto/d/austin-200...        NaN  NaN   \n",
       "https://abilene.craigslist.org/cto/d/aspermont-...  full-size  SUV   \n",
       "https://abilene.craigslist.org/ctd/d/liberty-hi...        NaN  NaN   \n",
       "https://abilene.craigslist.org/ctd/d/liberty-hi...        NaN  NaN   \n",
       "\n",
       "                                                   paint_color  \\\n",
       "url                                                              \n",
       "https://abilene.craigslist.org/cto/d/abilene-20...       white   \n",
       "https://abilene.craigslist.org/cto/d/austin-200...         NaN   \n",
       "https://abilene.craigslist.org/cto/d/aspermont-...       white   \n",
       "https://abilene.craigslist.org/ctd/d/liberty-hi...         NaN   \n",
       "https://abilene.craigslist.org/ctd/d/liberty-hi...         NaN   \n",
       "\n",
       "                                                                                            image_url  \\\n",
       "url                                                                                                     \n",
       "https://abilene.craigslist.org/cto/d/abilene-20...  https://images.craigslist.org/00e0e_iduGuXQ3P0...   \n",
       "https://abilene.craigslist.org/cto/d/austin-200...  https://images.craigslist.org/00000_fJJiWIlx3z...   \n",
       "https://abilene.craigslist.org/cto/d/aspermont-...  https://images.craigslist.org/00909_5P6f1E6zHl...   \n",
       "https://abilene.craigslist.org/ctd/d/liberty-hi...  https://images.craigslist.org/00u0u_24XW8uhLYP...   \n",
       "https://abilene.craigslist.org/ctd/d/liberty-hi...  https://images.craigslist.org/00l0l_H1UKTJ4sTI...   \n",
       "\n",
       "                                                                                                 desc  \\\n",
       "url                                                                                                     \n",
       "https://abilene.craigslist.org/cto/d/abilene-20...  2006 Chevy Equinox with only 113,000 miles. V6...   \n",
       "https://abilene.craigslist.org/cto/d/austin-200...  Nice and very reliable luxury family sedan.  A...   \n",
       "https://abilene.craigslist.org/cto/d/aspermont-...  2WD 1/2 ton\\nLeather Captains Chairs\\nIn good ...   \n",
       "https://abilene.craigslist.org/ctd/d/liberty-hi...  www.GETADIESEL.com\\n2012 RAM 2500 SLT 4X4 MEGA...   \n",
       "https://abilene.craigslist.org/ctd/d/liberty-hi...  www.GETADIESEL.com\\n2003 DODGE RAM 3500 LARAMI...   \n",
       "\n",
       "                                                          lat        long  \n",
       "url                                                                        \n",
       "https://abilene.craigslist.org/cto/d/abilene-20...  32.401556  -99.884713  \n",
       "https://abilene.craigslist.org/cto/d/austin-200...  30.120400  -97.743300  \n",
       "https://abilene.craigslist.org/cto/d/aspermont-...  33.130100 -100.234400  \n",
       "https://abilene.craigslist.org/ctd/d/liberty-hi...  30.648368  -97.862949  \n",
       "https://abilene.craigslist.org/ctd/d/liberty-hi...  30.648516  -97.862434  "
      ]
     },
     "execution_count": 5,
     "metadata": {},
     "output_type": "execute_result"
    }
   ],
   "source": [
    "df.head()"
   ]
  },
  {
   "cell_type": "code",
   "execution_count": 6,
   "metadata": {
    "hideCode": false,
    "hidePrompt": false
   },
   "outputs": [
    {
     "data": {
      "text/plain": [
       "city            False\n",
       "city_url        False\n",
       "price           False\n",
       "year             True\n",
       "manufacturer     True\n",
       "make             True\n",
       "condition        True\n",
       "cylinders        True\n",
       "fuel             True\n",
       "odometer         True\n",
       "title_status     True\n",
       "transmission     True\n",
       "VIN              True\n",
       "drive            True\n",
       "size             True\n",
       "type             True\n",
       "paint_color      True\n",
       "image_url        True\n",
       "desc             True\n",
       "lat              True\n",
       "long             True\n",
       "dtype: bool"
      ]
     },
     "execution_count": 6,
     "metadata": {},
     "output_type": "execute_result"
    }
   ],
   "source": [
    "df.isna().any()"
   ]
  },
  {
   "cell_type": "code",
   "execution_count": 7,
   "metadata": {
    "hideCode": false,
    "hidePrompt": false
   },
   "outputs": [
    {
     "data": {
      "text/plain": [
       "city                 0\n",
       "city_url             0\n",
       "price                0\n",
       "year              1358\n",
       "manufacturer     27059\n",
       "make             10067\n",
       "condition       246156\n",
       "cylinders       217967\n",
       "fuel              4609\n",
       "odometer        110016\n",
       "title_status      3619\n",
       "transmission      4705\n",
       "VIN             236736\n",
       "drive           164429\n",
       "size            362830\n",
       "type            156840\n",
       "paint_color     180176\n",
       "image_url           46\n",
       "desc                50\n",
       "lat               7440\n",
       "long              7440\n",
       "dtype: int64"
      ]
     },
     "execution_count": 7,
     "metadata": {},
     "output_type": "execute_result"
    }
   ],
   "source": [
    "df.isna().sum()"
   ]
  },
  {
   "cell_type": "code",
   "execution_count": 8,
   "metadata": {
    "hideCode": false,
    "hidePrompt": false
   },
   "outputs": [
    {
     "data": {
      "text/plain": [
       "(545937, 21)"
      ]
     },
     "execution_count": 8,
     "metadata": {},
     "output_type": "execute_result"
    }
   ],
   "source": [
    "df.shape"
   ]
  },
  {
   "cell_type": "markdown",
   "metadata": {
    "hideCode": false,
    "hidePrompt": false
   },
   "source": [
    "Drop the columns which are not required for the analysis"
   ]
  },
  {
   "cell_type": "code",
   "execution_count": 9,
   "metadata": {
    "hideCode": false,
    "hidePrompt": false
   },
   "outputs": [],
   "source": [
    "df.drop(\"city_url\", axis=1, inplace=True)"
   ]
  },
  {
   "cell_type": "code",
   "execution_count": 10,
   "metadata": {
    "hideCode": false,
    "hidePrompt": false
   },
   "outputs": [],
   "source": [
    "df.drop(\"image_url\", axis=1, inplace=True)"
   ]
  },
  {
   "cell_type": "code",
   "execution_count": 11,
   "metadata": {
    "hideCode": false,
    "hidePrompt": false
   },
   "outputs": [],
   "source": [
    "df.drop(\"desc\", axis=1, inplace=True)"
   ]
  },
  {
   "cell_type": "markdown",
   "metadata": {
    "hideCode": false,
    "hidePrompt": false
   },
   "source": [
    "Drop the longitude and lattitude with NaN values"
   ]
  },
  {
   "cell_type": "code",
   "execution_count": 12,
   "metadata": {
    "hideCode": false,
    "hidePrompt": false
   },
   "outputs": [],
   "source": [
    "df.dropna(how='any',subset=['lat'],inplace=True)"
   ]
  },
  {
   "cell_type": "code",
   "execution_count": 13,
   "metadata": {
    "hideCode": false,
    "hidePrompt": false
   },
   "outputs": [],
   "source": [
    "df.dropna(how='any',subset=['long'],inplace=True)"
   ]
  },
  {
   "cell_type": "markdown",
   "metadata": {
    "hideCode": false,
    "hidePrompt": false
   },
   "source": [
    "Check for the unique values in the remaining columns"
   ]
  },
  {
   "cell_type": "code",
   "execution_count": 14,
   "metadata": {
    "hideCode": false,
    "hidePrompt": false
   },
   "outputs": [
    {
     "data": {
      "text/plain": [
       "<bound method Index.unique of Index(['https://abilene.craigslist.org/cto/d/abilene-2006-chevy-equinox/6977574118.html',\n",
       "       'https://abilene.craigslist.org/cto/d/austin-2002-lexus-es300/6977543697.html',\n",
       "       'https://abilene.craigslist.org/cto/d/aspermont-2009-chevrolet-suburban-lt/6977351526.html',\n",
       "       'https://abilene.craigslist.org/ctd/d/liberty-hill-2012-ram-2500-slt-mega-cab/6977347322.html',\n",
       "       'https://abilene.craigslist.org/ctd/d/liberty-hill-2003-dodge-ram-3500/6977302857.html',\n",
       "       'https://abilene.craigslist.org/cto/d/merkel-2002-gmc-sierra-1500/6977272965.html',\n",
       "       'https://abilene.craigslist.org/cto/d/brownwood-2007-gxp-pontiac-solstice/6977246765.html',\n",
       "       'https://abilene.craigslist.org/cto/d/breckenridge-2012-chevrolet-lincoln/6977231838.html',\n",
       "       'https://abilene.craigslist.org/cto/d/abilene-truck-for-sale/6977198868.html',\n",
       "       'https://abilene.craigslist.org/ctd/d/arlington-2013-ford-250-xl-crew-cab-4x4/6977159417.html',\n",
       "       ...\n",
       "       'https://zanesville.craigslist.org/cto/d/stockport-2015-dodge-journey/6957883319.html',\n",
       "       'https://zanesville.craigslist.org/cto/d/bannock-corvette-c5/6957560508.html',\n",
       "       'https://zanesville.craigslist.org/cto/d/blue-rock-2012-ford-f250-4wd/6957527121.html',\n",
       "       'https://zanesville.craigslist.org/cto/d/dresden-2017-ford-focus-titanium-sedan/6957431011.html',\n",
       "       'https://zanesville.craigslist.org/cto/d/quaker-city-2000-toyota-celica/6957063409.html',\n",
       "       'https://zanesville.craigslist.org/cto/d/new-concord-2015-kia-optima-ex-fully/6957031427.html',\n",
       "       'https://zanesville.craigslist.org/cto/d/bannock-2018-ford-mustang/6956886438.html',\n",
       "       'https://zanesville.craigslist.org/cto/d/blue-rock-2005-chevy-cobalt/6956798807.html',\n",
       "       'https://zanesville.craigslist.org/cto/d/new-concord-2001-ford-f150-with-cap/6956672618.html',\n",
       "       'https://zanesville.craigslist.org/cto/d/zanesville-2007-toyota-sienna/6956363290.html'],\n",
       "      dtype='object', name='url', length=538497)>"
      ]
     },
     "execution_count": 14,
     "metadata": {},
     "output_type": "execute_result"
    }
   ],
   "source": [
    "df.index.unique"
   ]
  },
  {
   "cell_type": "code",
   "execution_count": 15,
   "metadata": {
    "hideCode": false,
    "hidePrompt": false
   },
   "outputs": [],
   "source": [
    "df.reset_index(inplace = True)"
   ]
  },
  {
   "cell_type": "code",
   "execution_count": 16,
   "metadata": {
    "hideCode": false,
    "hidePrompt": false
   },
   "outputs": [
    {
     "data": {
      "text/html": [
       "<div>\n",
       "<style scoped>\n",
       "    .dataframe tbody tr th:only-of-type {\n",
       "        vertical-align: middle;\n",
       "    }\n",
       "\n",
       "    .dataframe tbody tr th {\n",
       "        vertical-align: top;\n",
       "    }\n",
       "\n",
       "    .dataframe thead th {\n",
       "        text-align: right;\n",
       "    }\n",
       "</style>\n",
       "<table border=\"1\" class=\"dataframe\">\n",
       "  <thead>\n",
       "    <tr style=\"text-align: right;\">\n",
       "      <th></th>\n",
       "      <th>url</th>\n",
       "      <th>city</th>\n",
       "      <th>price</th>\n",
       "      <th>year</th>\n",
       "      <th>manufacturer</th>\n",
       "      <th>make</th>\n",
       "      <th>condition</th>\n",
       "      <th>cylinders</th>\n",
       "      <th>fuel</th>\n",
       "      <th>odometer</th>\n",
       "      <th>title_status</th>\n",
       "      <th>transmission</th>\n",
       "      <th>VIN</th>\n",
       "      <th>drive</th>\n",
       "      <th>size</th>\n",
       "      <th>type</th>\n",
       "      <th>paint_color</th>\n",
       "      <th>lat</th>\n",
       "      <th>long</th>\n",
       "    </tr>\n",
       "  </thead>\n",
       "  <tbody>\n",
       "    <tr>\n",
       "      <th>0</th>\n",
       "      <td>https://abilene.craigslist.org/cto/d/abilene-2...</td>\n",
       "      <td>abilene, TX</td>\n",
       "      <td>3500</td>\n",
       "      <td>2006.0</td>\n",
       "      <td>chevrolet</td>\n",
       "      <td>NaN</td>\n",
       "      <td>excellent</td>\n",
       "      <td>6 cylinders</td>\n",
       "      <td>gas</td>\n",
       "      <td>113000.0</td>\n",
       "      <td>clean</td>\n",
       "      <td>automatic</td>\n",
       "      <td>NaN</td>\n",
       "      <td>NaN</td>\n",
       "      <td>NaN</td>\n",
       "      <td>NaN</td>\n",
       "      <td>white</td>\n",
       "      <td>32.401556</td>\n",
       "      <td>-99.884713</td>\n",
       "    </tr>\n",
       "    <tr>\n",
       "      <th>1</th>\n",
       "      <td>https://abilene.craigslist.org/cto/d/austin-20...</td>\n",
       "      <td>abilene, TX</td>\n",
       "      <td>3399</td>\n",
       "      <td>2002.0</td>\n",
       "      <td>lexus</td>\n",
       "      <td>es300</td>\n",
       "      <td>good</td>\n",
       "      <td>6 cylinders</td>\n",
       "      <td>gas</td>\n",
       "      <td>140000.0</td>\n",
       "      <td>clean</td>\n",
       "      <td>automatic</td>\n",
       "      <td>NaN</td>\n",
       "      <td>NaN</td>\n",
       "      <td>NaN</td>\n",
       "      <td>NaN</td>\n",
       "      <td>NaN</td>\n",
       "      <td>30.120400</td>\n",
       "      <td>-97.743300</td>\n",
       "    </tr>\n",
       "    <tr>\n",
       "      <th>2</th>\n",
       "      <td>https://abilene.craigslist.org/cto/d/aspermont...</td>\n",
       "      <td>abilene, TX</td>\n",
       "      <td>9000</td>\n",
       "      <td>2009.0</td>\n",
       "      <td>chevrolet</td>\n",
       "      <td>suburban lt2</td>\n",
       "      <td>good</td>\n",
       "      <td>8 cylinders</td>\n",
       "      <td>gas</td>\n",
       "      <td>217743.0</td>\n",
       "      <td>clean</td>\n",
       "      <td>automatic</td>\n",
       "      <td>1GFNC26099R211276</td>\n",
       "      <td>rwd</td>\n",
       "      <td>full-size</td>\n",
       "      <td>SUV</td>\n",
       "      <td>white</td>\n",
       "      <td>33.130100</td>\n",
       "      <td>-100.234400</td>\n",
       "    </tr>\n",
       "    <tr>\n",
       "      <th>3</th>\n",
       "      <td>https://abilene.craigslist.org/ctd/d/liberty-h...</td>\n",
       "      <td>abilene, TX</td>\n",
       "      <td>31999</td>\n",
       "      <td>2012.0</td>\n",
       "      <td>ram</td>\n",
       "      <td>2500</td>\n",
       "      <td>NaN</td>\n",
       "      <td>NaN</td>\n",
       "      <td>diesel</td>\n",
       "      <td>NaN</td>\n",
       "      <td>clean</td>\n",
       "      <td>automatic</td>\n",
       "      <td>NaN</td>\n",
       "      <td>NaN</td>\n",
       "      <td>NaN</td>\n",
       "      <td>NaN</td>\n",
       "      <td>NaN</td>\n",
       "      <td>30.648368</td>\n",
       "      <td>-97.862949</td>\n",
       "    </tr>\n",
       "    <tr>\n",
       "      <th>4</th>\n",
       "      <td>https://abilene.craigslist.org/ctd/d/liberty-h...</td>\n",
       "      <td>abilene, TX</td>\n",
       "      <td>16990</td>\n",
       "      <td>2003.0</td>\n",
       "      <td>ram</td>\n",
       "      <td>3500</td>\n",
       "      <td>NaN</td>\n",
       "      <td>NaN</td>\n",
       "      <td>diesel</td>\n",
       "      <td>NaN</td>\n",
       "      <td>clean</td>\n",
       "      <td>manual</td>\n",
       "      <td>NaN</td>\n",
       "      <td>NaN</td>\n",
       "      <td>NaN</td>\n",
       "      <td>NaN</td>\n",
       "      <td>NaN</td>\n",
       "      <td>30.648516</td>\n",
       "      <td>-97.862434</td>\n",
       "    </tr>\n",
       "  </tbody>\n",
       "</table>\n",
       "</div>"
      ],
      "text/plain": [
       "                                                 url         city  price  \\\n",
       "0  https://abilene.craigslist.org/cto/d/abilene-2...  abilene, TX   3500   \n",
       "1  https://abilene.craigslist.org/cto/d/austin-20...  abilene, TX   3399   \n",
       "2  https://abilene.craigslist.org/cto/d/aspermont...  abilene, TX   9000   \n",
       "3  https://abilene.craigslist.org/ctd/d/liberty-h...  abilene, TX  31999   \n",
       "4  https://abilene.craigslist.org/ctd/d/liberty-h...  abilene, TX  16990   \n",
       "\n",
       "     year manufacturer          make  condition    cylinders    fuel  \\\n",
       "0  2006.0    chevrolet           NaN  excellent  6 cylinders     gas   \n",
       "1  2002.0        lexus         es300       good  6 cylinders     gas   \n",
       "2  2009.0    chevrolet  suburban lt2       good  8 cylinders     gas   \n",
       "3  2012.0          ram          2500        NaN          NaN  diesel   \n",
       "4  2003.0          ram          3500        NaN          NaN  diesel   \n",
       "\n",
       "   odometer title_status transmission                VIN drive       size  \\\n",
       "0  113000.0        clean    automatic                NaN   NaN        NaN   \n",
       "1  140000.0        clean    automatic                NaN   NaN        NaN   \n",
       "2  217743.0        clean    automatic  1GFNC26099R211276   rwd  full-size   \n",
       "3       NaN        clean    automatic                NaN   NaN        NaN   \n",
       "4       NaN        clean       manual                NaN   NaN        NaN   \n",
       "\n",
       "  type paint_color        lat        long  \n",
       "0  NaN       white  32.401556  -99.884713  \n",
       "1  NaN         NaN  30.120400  -97.743300  \n",
       "2  SUV       white  33.130100 -100.234400  \n",
       "3  NaN         NaN  30.648368  -97.862949  \n",
       "4  NaN         NaN  30.648516  -97.862434  "
      ]
     },
     "execution_count": 16,
     "metadata": {},
     "output_type": "execute_result"
    }
   ],
   "source": [
    "df.head()"
   ]
  },
  {
   "cell_type": "code",
   "execution_count": 17,
   "metadata": {
    "hideCode": false,
    "hidePrompt": false
   },
   "outputs": [],
   "source": [
    "df.drop(\"url\", axis=1, inplace=True)"
   ]
  },
  {
   "cell_type": "code",
   "execution_count": 18,
   "metadata": {},
   "outputs": [
    {
     "data": {
      "text/plain": [
       "(538497, 18)"
      ]
     },
     "execution_count": 18,
     "metadata": {},
     "output_type": "execute_result"
    }
   ],
   "source": [
    "df.shape"
   ]
  },
  {
   "cell_type": "code",
   "execution_count": 19,
   "metadata": {
    "hideCode": false,
    "hidePrompt": false
   },
   "outputs": [
    {
     "data": {
      "text/plain": [
       "excellent    141243\n",
       "good         108239\n",
       "like new      31177\n",
       "fair          13347\n",
       "new            1602\n",
       "salvage         937\n",
       "Name: condition, dtype: int64"
      ]
     },
     "execution_count": 19,
     "metadata": {},
     "output_type": "execute_result"
    }
   ],
   "source": [
    "df.condition.value_counts()"
   ]
  },
  {
   "cell_type": "code",
   "execution_count": 20,
   "metadata": {
    "hideCode": false,
    "hidePrompt": false
   },
   "outputs": [],
   "source": [
    "df.dropna(how='any',subset=['year'],inplace=True)"
   ]
  },
  {
   "cell_type": "markdown",
   "metadata": {
    "hideCode": false,
    "hidePrompt": false
   },
   "source": [
    "Consider only the years from 1991 onwards"
   ]
  },
  {
   "cell_type": "code",
   "execution_count": 21,
   "metadata": {
    "hideCode": false,
    "hidePrompt": false
   },
   "outputs": [
    {
     "data": {
      "text/plain": [
       "0"
      ]
     },
     "execution_count": 21,
     "metadata": {},
     "output_type": "execute_result"
    }
   ],
   "source": [
    "df.year.isna().sum()"
   ]
  },
  {
   "cell_type": "code",
   "execution_count": 22,
   "metadata": {},
   "outputs": [],
   "source": [
    "df.drop( df[ df['year'] < 1991.0 ].index , inplace=True)"
   ]
  },
  {
   "cell_type": "code",
   "execution_count": 23,
   "metadata": {},
   "outputs": [],
   "source": [
    "df['year'] = df['year'].apply(np.int64)"
   ]
  },
  {
   "cell_type": "code",
   "execution_count": 24,
   "metadata": {},
   "outputs": [
    {
     "data": {
      "text/plain": [
       "<bound method IndexOpsMixin.value_counts of 0         2006\n",
       "1         2002\n",
       "2         2009\n",
       "3         2012\n",
       "4         2003\n",
       "5         2002\n",
       "6         2007\n",
       "7         2012\n",
       "8         2003\n",
       "9         2013\n",
       "10        2006\n",
       "11        2000\n",
       "12        2018\n",
       "13        2006\n",
       "14        2015\n",
       "15        2004\n",
       "16        2015\n",
       "17        2018\n",
       "18        2012\n",
       "21        2000\n",
       "22        2000\n",
       "23        2010\n",
       "24        2001\n",
       "25        2016\n",
       "26        2011\n",
       "27        2011\n",
       "28        2013\n",
       "29        2019\n",
       "31        1996\n",
       "32        1994\n",
       "          ... \n",
       "538466    1998\n",
       "538467    2007\n",
       "538468    2015\n",
       "538469    2011\n",
       "538470    1998\n",
       "538471    2006\n",
       "538472    1999\n",
       "538474    2005\n",
       "538475    2007\n",
       "538476    2007\n",
       "538477    2013\n",
       "538478    2000\n",
       "538479    2008\n",
       "538480    2018\n",
       "538481    2006\n",
       "538482    2010\n",
       "538483    1996\n",
       "538484    2000\n",
       "538485    2006\n",
       "538486    2003\n",
       "538487    2015\n",
       "538488    2000\n",
       "538489    2012\n",
       "538490    2017\n",
       "538491    2000\n",
       "538492    2015\n",
       "538493    2018\n",
       "538494    2005\n",
       "538495    2001\n",
       "538496    2007\n",
       "Name: year, Length: 515153, dtype: int64>"
      ]
     },
     "execution_count": 24,
     "metadata": {},
     "output_type": "execute_result"
    }
   ],
   "source": [
    "df.year.value_counts"
   ]
  },
  {
   "cell_type": "markdown",
   "metadata": {
    "hideCode": false,
    "hidePrompt": false
   },
   "source": [
    "Drop 'NaN' values from the year column"
   ]
  },
  {
   "cell_type": "code",
   "execution_count": 25,
   "metadata": {
    "hideCode": false,
    "hidePrompt": false
   },
   "outputs": [
    {
     "data": {
      "text/plain": [
       "0"
      ]
     },
     "execution_count": 25,
     "metadata": {},
     "output_type": "execute_result"
    }
   ],
   "source": [
    "df.year.isna().sum()"
   ]
  },
  {
   "cell_type": "code",
   "execution_count": 26,
   "metadata": {},
   "outputs": [
    {
     "data": {
      "text/plain": [
       "(515153, 18)"
      ]
     },
     "execution_count": 26,
     "metadata": {},
     "output_type": "execute_result"
    }
   ],
   "source": [
    "df.shape"
   ]
  },
  {
   "cell_type": "code",
   "execution_count": 27,
   "metadata": {
    "hideCode": false,
    "hidePrompt": false
   },
   "outputs": [
    {
     "data": {
      "text/plain": [
       "yuba-sutter, CA             2959\n",
       "salem, OR                   2906\n",
       "grand rapids, MI            2898\n",
       "kennewick-pasco-richland    2897\n",
       "eugene, OR                  2885\n",
       "south florida               2884\n",
       "jacksonville, FL            2878\n",
       "tampa bay area              2878\n",
       "stockton, CA                2878\n",
       "washington, DC              2877\n",
       "modesto, CA                 2873\n",
       "redding, CA                 2870\n",
       "bellingham, WA              2869\n",
       "boise, ID                   2869\n",
       "omaha / council bluffs      2868\n",
       "raleigh / durham / CH       2866\n",
       "colorado springs            2865\n",
       "orlando, FL                 2861\n",
       "portland, OR                2860\n",
       "fayetteville, AR            2854\n",
       "tucson, AZ                  2852\n",
       "sarasota-bradenton          2851\n",
       "birmingham, AL              2847\n",
       "anchorage / mat-su          2845\n",
       "fort collins / north CO     2843\n",
       "st louis, MO                2843\n",
       "fresno / madera             2842\n",
       "detroit metro               2842\n",
       "seattle-tacoma              2841\n",
       "richmond, VA                2839\n",
       "                            ... \n",
       "mattoon-charleston           110\n",
       "clovis / portales            109\n",
       "northwest KS                 109\n",
       "la salle co                  108\n",
       "catskills                    107\n",
       "oneonta, NY                  103\n",
       "provo / orem                 103\n",
       "salina, KS                   102\n",
       "north platte, NE             102\n",
       "eastern montana              102\n",
       "meridian, MS                 101\n",
       "tuscarawas co                100\n",
       "northeast SD                  99\n",
       "sandusky, OH                  99\n",
       "siskiyou county               98\n",
       "southwest VA                  96\n",
       "houma, LA                     93\n",
       "central louisiana             92\n",
       "statesboro, GA                92\n",
       "deep east texas               90\n",
       "fort dodge, IA                84\n",
       "owensboro, KY                 84\n",
       "southeast alaska              82\n",
       "logan, UT                     79\n",
       "lake charles, LA              75\n",
       "southwest TX                  74\n",
       "pierre / central SD           73\n",
       "west virginia (old)           57\n",
       "southwest MS                  50\n",
       "ogden-clearfield              39\n",
       "Name: city, Length: 413, dtype: int64"
      ]
     },
     "execution_count": 27,
     "metadata": {},
     "output_type": "execute_result"
    }
   ],
   "source": [
    "df.city.value_counts()"
   ]
  },
  {
   "cell_type": "code",
   "execution_count": 28,
   "metadata": {
    "hideCode": false,
    "hidePrompt": false
   },
   "outputs": [
    {
     "data": {
      "text/html": [
       "<div>\n",
       "<style scoped>\n",
       "    .dataframe tbody tr th:only-of-type {\n",
       "        vertical-align: middle;\n",
       "    }\n",
       "\n",
       "    .dataframe tbody tr th {\n",
       "        vertical-align: top;\n",
       "    }\n",
       "\n",
       "    .dataframe thead th {\n",
       "        text-align: right;\n",
       "    }\n",
       "</style>\n",
       "<table border=\"1\" class=\"dataframe\">\n",
       "  <thead>\n",
       "    <tr style=\"text-align: right;\">\n",
       "      <th></th>\n",
       "      <th>city</th>\n",
       "      <th>price</th>\n",
       "      <th>year</th>\n",
       "      <th>manufacturer</th>\n",
       "      <th>make</th>\n",
       "      <th>condition</th>\n",
       "      <th>cylinders</th>\n",
       "      <th>fuel</th>\n",
       "      <th>odometer</th>\n",
       "      <th>title_status</th>\n",
       "      <th>transmission</th>\n",
       "      <th>VIN</th>\n",
       "      <th>drive</th>\n",
       "      <th>size</th>\n",
       "      <th>type</th>\n",
       "      <th>paint_color</th>\n",
       "      <th>lat</th>\n",
       "      <th>long</th>\n",
       "    </tr>\n",
       "  </thead>\n",
       "  <tbody>\n",
       "    <tr>\n",
       "      <th>0</th>\n",
       "      <td>abilene, TX</td>\n",
       "      <td>3500</td>\n",
       "      <td>2006</td>\n",
       "      <td>chevrolet</td>\n",
       "      <td>NaN</td>\n",
       "      <td>excellent</td>\n",
       "      <td>6 cylinders</td>\n",
       "      <td>gas</td>\n",
       "      <td>113000.0</td>\n",
       "      <td>clean</td>\n",
       "      <td>automatic</td>\n",
       "      <td>NaN</td>\n",
       "      <td>NaN</td>\n",
       "      <td>NaN</td>\n",
       "      <td>NaN</td>\n",
       "      <td>white</td>\n",
       "      <td>32.401556</td>\n",
       "      <td>-99.884713</td>\n",
       "    </tr>\n",
       "    <tr>\n",
       "      <th>1</th>\n",
       "      <td>abilene, TX</td>\n",
       "      <td>3399</td>\n",
       "      <td>2002</td>\n",
       "      <td>lexus</td>\n",
       "      <td>es300</td>\n",
       "      <td>good</td>\n",
       "      <td>6 cylinders</td>\n",
       "      <td>gas</td>\n",
       "      <td>140000.0</td>\n",
       "      <td>clean</td>\n",
       "      <td>automatic</td>\n",
       "      <td>NaN</td>\n",
       "      <td>NaN</td>\n",
       "      <td>NaN</td>\n",
       "      <td>NaN</td>\n",
       "      <td>NaN</td>\n",
       "      <td>30.120400</td>\n",
       "      <td>-97.743300</td>\n",
       "    </tr>\n",
       "    <tr>\n",
       "      <th>2</th>\n",
       "      <td>abilene, TX</td>\n",
       "      <td>9000</td>\n",
       "      <td>2009</td>\n",
       "      <td>chevrolet</td>\n",
       "      <td>suburban lt2</td>\n",
       "      <td>good</td>\n",
       "      <td>8 cylinders</td>\n",
       "      <td>gas</td>\n",
       "      <td>217743.0</td>\n",
       "      <td>clean</td>\n",
       "      <td>automatic</td>\n",
       "      <td>1GFNC26099R211276</td>\n",
       "      <td>rwd</td>\n",
       "      <td>full-size</td>\n",
       "      <td>SUV</td>\n",
       "      <td>white</td>\n",
       "      <td>33.130100</td>\n",
       "      <td>-100.234400</td>\n",
       "    </tr>\n",
       "    <tr>\n",
       "      <th>3</th>\n",
       "      <td>abilene, TX</td>\n",
       "      <td>31999</td>\n",
       "      <td>2012</td>\n",
       "      <td>ram</td>\n",
       "      <td>2500</td>\n",
       "      <td>NaN</td>\n",
       "      <td>NaN</td>\n",
       "      <td>diesel</td>\n",
       "      <td>NaN</td>\n",
       "      <td>clean</td>\n",
       "      <td>automatic</td>\n",
       "      <td>NaN</td>\n",
       "      <td>NaN</td>\n",
       "      <td>NaN</td>\n",
       "      <td>NaN</td>\n",
       "      <td>NaN</td>\n",
       "      <td>30.648368</td>\n",
       "      <td>-97.862949</td>\n",
       "    </tr>\n",
       "    <tr>\n",
       "      <th>4</th>\n",
       "      <td>abilene, TX</td>\n",
       "      <td>16990</td>\n",
       "      <td>2003</td>\n",
       "      <td>ram</td>\n",
       "      <td>3500</td>\n",
       "      <td>NaN</td>\n",
       "      <td>NaN</td>\n",
       "      <td>diesel</td>\n",
       "      <td>NaN</td>\n",
       "      <td>clean</td>\n",
       "      <td>manual</td>\n",
       "      <td>NaN</td>\n",
       "      <td>NaN</td>\n",
       "      <td>NaN</td>\n",
       "      <td>NaN</td>\n",
       "      <td>NaN</td>\n",
       "      <td>30.648516</td>\n",
       "      <td>-97.862434</td>\n",
       "    </tr>\n",
       "  </tbody>\n",
       "</table>\n",
       "</div>"
      ],
      "text/plain": [
       "          city  price  year manufacturer          make  condition  \\\n",
       "0  abilene, TX   3500  2006    chevrolet           NaN  excellent   \n",
       "1  abilene, TX   3399  2002        lexus         es300       good   \n",
       "2  abilene, TX   9000  2009    chevrolet  suburban lt2       good   \n",
       "3  abilene, TX  31999  2012          ram          2500        NaN   \n",
       "4  abilene, TX  16990  2003          ram          3500        NaN   \n",
       "\n",
       "     cylinders    fuel  odometer title_status transmission                VIN  \\\n",
       "0  6 cylinders     gas  113000.0        clean    automatic                NaN   \n",
       "1  6 cylinders     gas  140000.0        clean    automatic                NaN   \n",
       "2  8 cylinders     gas  217743.0        clean    automatic  1GFNC26099R211276   \n",
       "3          NaN  diesel       NaN        clean    automatic                NaN   \n",
       "4          NaN  diesel       NaN        clean       manual                NaN   \n",
       "\n",
       "  drive       size type paint_color        lat        long  \n",
       "0   NaN        NaN  NaN       white  32.401556  -99.884713  \n",
       "1   NaN        NaN  NaN         NaN  30.120400  -97.743300  \n",
       "2   rwd  full-size  SUV       white  33.130100 -100.234400  \n",
       "3   NaN        NaN  NaN         NaN  30.648368  -97.862949  \n",
       "4   NaN        NaN  NaN         NaN  30.648516  -97.862434  "
      ]
     },
     "execution_count": 28,
     "metadata": {},
     "output_type": "execute_result"
    }
   ],
   "source": [
    "df.head()"
   ]
  },
  {
   "cell_type": "code",
   "execution_count": 29,
   "metadata": {
    "hideCode": false,
    "hidePrompt": false
   },
   "outputs": [
    {
     "data": {
      "text/plain": [
       "0"
      ]
     },
     "execution_count": 29,
     "metadata": {},
     "output_type": "execute_result"
    }
   ],
   "source": [
    "df.price.isna().sum()"
   ]
  },
  {
   "cell_type": "code",
   "execution_count": 30,
   "metadata": {
    "hideCode": false,
    "hidePrompt": false
   },
   "outputs": [
    {
     "data": {
      "text/plain": [
       "217498"
      ]
     },
     "execution_count": 30,
     "metadata": {},
     "output_type": "execute_result"
    }
   ],
   "source": [
    "df.VIN.isna().sum()"
   ]
  },
  {
   "cell_type": "markdown",
   "metadata": {
    "hideCode": false,
    "hidePrompt": false
   },
   "source": [
    "VIN is unique to the vehicle hence the null VINs can not be replaced with the average of VINs.Hence dropping the null VINs."
   ]
  },
  {
   "cell_type": "code",
   "execution_count": 31,
   "metadata": {
    "hideCode": false,
    "hidePrompt": false
   },
   "outputs": [],
   "source": [
    "df.dropna(how='any',subset=['VIN'],inplace=True)"
   ]
  },
  {
   "cell_type": "code",
   "execution_count": 32,
   "metadata": {
    "hideCode": false,
    "hidePrompt": false
   },
   "outputs": [
    {
     "data": {
      "text/plain": [
       "(297655, 18)"
      ]
     },
     "execution_count": 32,
     "metadata": {},
     "output_type": "execute_result"
    }
   ],
   "source": [
    "df.shape"
   ]
  },
  {
   "cell_type": "code",
   "execution_count": 33,
   "metadata": {
    "hideCode": false,
    "hidePrompt": false
   },
   "outputs": [
    {
     "data": {
      "text/plain": [
       "0"
      ]
     },
     "execution_count": 33,
     "metadata": {},
     "output_type": "execute_result"
    }
   ],
   "source": [
    "df.VIN.isna().sum()"
   ]
  },
  {
   "cell_type": "code",
   "execution_count": 34,
   "metadata": {
    "hideCode": false,
    "hidePrompt": false
   },
   "outputs": [
    {
     "data": {
      "text/plain": [
       "city                 0\n",
       "price                0\n",
       "year                 0\n",
       "manufacturer      8409\n",
       "make              2980\n",
       "condition       148178\n",
       "cylinders       122402\n",
       "fuel              3636\n",
       "odometer         11856\n",
       "title_status      3227\n",
       "transmission      4518\n",
       "VIN                  0\n",
       "drive            62752\n",
       "size            203795\n",
       "type             44303\n",
       "paint_color      75704\n",
       "lat                  0\n",
       "long                 0\n",
       "dtype: int64"
      ]
     },
     "execution_count": 34,
     "metadata": {},
     "output_type": "execute_result"
    }
   ],
   "source": [
    "df.isna().sum()"
   ]
  },
  {
   "cell_type": "code",
   "execution_count": 35,
   "metadata": {
    "hideCode": false,
    "hidePrompt": false
   },
   "outputs": [
    {
     "data": {
      "text/plain": [
       "(297655, 18)"
      ]
     },
     "execution_count": 35,
     "metadata": {},
     "output_type": "execute_result"
    }
   ],
   "source": [
    "df.shape"
   ]
  },
  {
   "cell_type": "code",
   "execution_count": 36,
   "metadata": {},
   "outputs": [],
   "source": [
    "df.dropna(how='any',subset=['manufacturer','make','fuel','title_status','transmission'],inplace=True)"
   ]
  },
  {
   "cell_type": "code",
   "execution_count": 37,
   "metadata": {},
   "outputs": [
    {
     "data": {
      "text/plain": [
       "(276559, 18)"
      ]
     },
     "execution_count": 37,
     "metadata": {},
     "output_type": "execute_result"
    }
   ],
   "source": [
    "df.shape"
   ]
  },
  {
   "cell_type": "code",
   "execution_count": 38,
   "metadata": {},
   "outputs": [],
   "source": [
    "df.dropna(how = 'any',subset = ['paint_color'],inplace = True)"
   ]
  },
  {
   "cell_type": "code",
   "execution_count": 39,
   "metadata": {},
   "outputs": [
    {
     "data": {
      "text/plain": [
       "(206341, 18)"
      ]
     },
     "execution_count": 39,
     "metadata": {},
     "output_type": "execute_result"
    }
   ],
   "source": [
    "df.shape"
   ]
  },
  {
   "cell_type": "markdown",
   "metadata": {},
   "source": [
    "Replace the null values in 'Odometer' column by average of the entire odometer column"
   ]
  },
  {
   "cell_type": "code",
   "execution_count": 40,
   "metadata": {},
   "outputs": [
    {
     "data": {
      "text/plain": [
       "<bound method IndexOpsMixin.value_counts of 2         217743.0\n",
       "9         116792.0\n",
       "12         85977.0\n",
       "14         77350.0\n",
       "15        186300.0\n",
       "16        121030.0\n",
       "17         60491.0\n",
       "18        112271.0\n",
       "23        140000.0\n",
       "33        112779.0\n",
       "36         13405.0\n",
       "37        150270.0\n",
       "39         75528.0\n",
       "40        131220.0\n",
       "41        139046.0\n",
       "42        101883.0\n",
       "43        107392.0\n",
       "44         72536.0\n",
       "45         75802.0\n",
       "46        142187.0\n",
       "47        117186.0\n",
       "49         61112.0\n",
       "50        265201.0\n",
       "52        100628.0\n",
       "53        106352.0\n",
       "55        113711.0\n",
       "56         77095.0\n",
       "57         98448.0\n",
       "58        113274.0\n",
       "59         64868.0\n",
       "            ...   \n",
       "538289    107442.0\n",
       "538290    101679.0\n",
       "538295     51589.0\n",
       "538298     48178.0\n",
       "538302    183465.0\n",
       "538303     71710.0\n",
       "538306     82100.0\n",
       "538319    108019.0\n",
       "538320    178701.0\n",
       "538329    194000.0\n",
       "538354    196000.0\n",
       "538361    166818.0\n",
       "538363     20000.0\n",
       "538371    181304.0\n",
       "538389    138528.0\n",
       "538390    220000.0\n",
       "538391    127620.0\n",
       "538392     95555.0\n",
       "538393     80240.0\n",
       "538394    116552.0\n",
       "538395    100779.0\n",
       "538397    117970.0\n",
       "538398    150270.0\n",
       "538399     89760.0\n",
       "538402    139400.0\n",
       "538414    236200.0\n",
       "538457    163353.0\n",
       "538460     97000.0\n",
       "538480      6565.0\n",
       "538495     63000.0\n",
       "Name: odometer, Length: 206341, dtype: float64>"
      ]
     },
     "execution_count": 40,
     "metadata": {},
     "output_type": "execute_result"
    }
   ],
   "source": [
    "df.odometer.value_counts"
   ]
  },
  {
   "cell_type": "code",
   "execution_count": 41,
   "metadata": {},
   "outputs": [
    {
     "data": {
      "text/plain": [
       "94745.1"
      ]
     },
     "execution_count": 41,
     "metadata": {},
     "output_type": "execute_result"
    }
   ],
   "source": [
    "round(df.odometer.mean(),1)"
   ]
  },
  {
   "cell_type": "code",
   "execution_count": 42,
   "metadata": {},
   "outputs": [],
   "source": [
    "df['odometer'] = df['odometer'].fillna(round(df.odometer.mean(),1))"
   ]
  },
  {
   "cell_type": "code",
   "execution_count": 43,
   "metadata": {},
   "outputs": [
    {
     "data": {
      "text/plain": [
       "drive\n",
       "4wd    80969\n",
       "fwd    63925\n",
       "rwd    31213\n",
       "Name: drive, dtype: int64"
      ]
     },
     "execution_count": 43,
     "metadata": {},
     "output_type": "execute_result"
    }
   ],
   "source": [
    "df.groupby('drive')['drive'].count()"
   ]
  },
  {
   "cell_type": "markdown",
   "metadata": {},
   "source": [
    "Null values in the 'drive' column can not be replaced with '4wd'or 'fwd' or 'rwd'.It may mislead the further analysis. Hence, dropping such rows with null 'drive' parameter"
   ]
  },
  {
   "cell_type": "code",
   "execution_count": 44,
   "metadata": {},
   "outputs": [],
   "source": [
    "df.dropna(how = 'any',subset = ['drive'],inplace = True)"
   ]
  },
  {
   "cell_type": "code",
   "execution_count": 45,
   "metadata": {},
   "outputs": [
    {
     "data": {
      "text/plain": [
       "(176107, 18)"
      ]
     },
     "execution_count": 45,
     "metadata": {},
     "output_type": "execute_result"
    }
   ],
   "source": [
    "df.shape"
   ]
  },
  {
   "cell_type": "code",
   "execution_count": 46,
   "metadata": {},
   "outputs": [
    {
     "data": {
      "text/plain": [
       "city                 0\n",
       "price                0\n",
       "year                 0\n",
       "manufacturer         0\n",
       "make                 0\n",
       "condition        69705\n",
       "cylinders        51199\n",
       "fuel                 0\n",
       "odometer             0\n",
       "title_status         0\n",
       "transmission         0\n",
       "VIN                  0\n",
       "drive                0\n",
       "size            100776\n",
       "type             10317\n",
       "paint_color          0\n",
       "lat                  0\n",
       "long                 0\n",
       "dtype: int64"
      ]
     },
     "execution_count": 46,
     "metadata": {},
     "output_type": "execute_result"
    }
   ],
   "source": [
    "df.isna().sum()"
   ]
  },
  {
   "cell_type": "code",
   "execution_count": 47,
   "metadata": {},
   "outputs": [
    {
     "data": {
      "text/plain": [
       "condition\n",
       "excellent    53414\n",
       "fair          2378\n",
       "good         39943\n",
       "like new     10139\n",
       "new            329\n",
       "salvage        199\n",
       "Name: condition, dtype: int64"
      ]
     },
     "execution_count": 47,
     "metadata": {},
     "output_type": "execute_result"
    }
   ],
   "source": [
    "df.groupby('condition')['condition'].count()"
   ]
  },
  {
   "cell_type": "code",
   "execution_count": 48,
   "metadata": {},
   "outputs": [],
   "source": [
    "df['condition'] = df['condition'].fillna('Unknown')"
   ]
  },
  {
   "cell_type": "code",
   "execution_count": 49,
   "metadata": {},
   "outputs": [
    {
     "data": {
      "text/plain": [
       "cylinders\n",
       "10 cylinders     1075\n",
       "12 cylinders       25\n",
       "3 cylinders       167\n",
       "4 cylinders     39400\n",
       "5 cylinders      1031\n",
       "6 cylinders     44970\n",
       "8 cylinders     37689\n",
       "other             551\n",
       "Name: cylinders, dtype: int64"
      ]
     },
     "execution_count": 49,
     "metadata": {},
     "output_type": "execute_result"
    }
   ],
   "source": [
    "df.groupby('cylinders')['cylinders'].count()"
   ]
  },
  {
   "cell_type": "code",
   "execution_count": 50,
   "metadata": {},
   "outputs": [],
   "source": [
    "df['cylinders'] = df['cylinders'].fillna('Unknown')"
   ]
  },
  {
   "cell_type": "code",
   "execution_count": 51,
   "metadata": {},
   "outputs": [
    {
     "data": {
      "text/plain": [
       "size\n",
       "compact         9889\n",
       "full-size      41764\n",
       "mid-size       22297\n",
       "sub-compact     1381\n",
       "Name: size, dtype: int64"
      ]
     },
     "execution_count": 51,
     "metadata": {},
     "output_type": "execute_result"
    }
   ],
   "source": [
    "df.groupby('size')['size'].count()"
   ]
  },
  {
   "cell_type": "code",
   "execution_count": 52,
   "metadata": {},
   "outputs": [],
   "source": [
    "df['size'] = df['size'].fillna('Unknown')"
   ]
  },
  {
   "cell_type": "code",
   "execution_count": 53,
   "metadata": {},
   "outputs": [
    {
     "data": {
      "text/plain": [
       "type\n",
       "SUV            42077\n",
       "bus              103\n",
       "convertible     2999\n",
       "coupe           8139\n",
       "hatchback       5387\n",
       "mini-van        2859\n",
       "offroad          215\n",
       "other           4828\n",
       "pickup         23489\n",
       "sedan          41186\n",
       "truck          23612\n",
       "van             5195\n",
       "wagon           5701\n",
       "Name: type, dtype: int64"
      ]
     },
     "execution_count": 53,
     "metadata": {},
     "output_type": "execute_result"
    }
   ],
   "source": [
    "df.groupby('type')['type'].count()"
   ]
  },
  {
   "cell_type": "code",
   "execution_count": 54,
   "metadata": {},
   "outputs": [],
   "source": [
    "df.dropna(how = 'any',subset = ['type'],inplace = True)"
   ]
  },
  {
   "cell_type": "code",
   "execution_count": 55,
   "metadata": {},
   "outputs": [
    {
     "data": {
      "text/plain": [
       "city            0\n",
       "price           0\n",
       "year            0\n",
       "manufacturer    0\n",
       "make            0\n",
       "condition       0\n",
       "cylinders       0\n",
       "fuel            0\n",
       "odometer        0\n",
       "title_status    0\n",
       "transmission    0\n",
       "VIN             0\n",
       "drive           0\n",
       "size            0\n",
       "type            0\n",
       "paint_color     0\n",
       "lat             0\n",
       "long            0\n",
       "dtype: int64"
      ]
     },
     "execution_count": 55,
     "metadata": {},
     "output_type": "execute_result"
    }
   ],
   "source": [
    "df.isna().sum()"
   ]
  },
  {
   "cell_type": "code",
   "execution_count": 56,
   "metadata": {},
   "outputs": [
    {
     "data": {
      "text/plain": [
       "(165790, 18)"
      ]
     },
     "execution_count": 56,
     "metadata": {},
     "output_type": "execute_result"
    }
   ],
   "source": [
    "df.shape"
   ]
  },
  {
   "cell_type": "markdown",
   "metadata": {
    "hideCode": false,
    "hidePrompt": false
   },
   "source": [
    "The dataset does not have any null values now hence let's use 1.65L records for analysis"
   ]
  },
  {
   "cell_type": "code",
   "execution_count": 57,
   "metadata": {
    "hideCode": false,
    "hidePrompt": false
   },
   "outputs": [
    {
     "data": {
      "text/html": [
       "<div>\n",
       "<style scoped>\n",
       "    .dataframe tbody tr th:only-of-type {\n",
       "        vertical-align: middle;\n",
       "    }\n",
       "\n",
       "    .dataframe tbody tr th {\n",
       "        vertical-align: top;\n",
       "    }\n",
       "\n",
       "    .dataframe thead th {\n",
       "        text-align: right;\n",
       "    }\n",
       "</style>\n",
       "<table border=\"1\" class=\"dataframe\">\n",
       "  <thead>\n",
       "    <tr style=\"text-align: right;\">\n",
       "      <th></th>\n",
       "      <th>city</th>\n",
       "      <th>price</th>\n",
       "      <th>year</th>\n",
       "      <th>manufacturer</th>\n",
       "      <th>make</th>\n",
       "      <th>condition</th>\n",
       "      <th>cylinders</th>\n",
       "      <th>fuel</th>\n",
       "      <th>odometer</th>\n",
       "      <th>title_status</th>\n",
       "      <th>transmission</th>\n",
       "      <th>VIN</th>\n",
       "      <th>drive</th>\n",
       "      <th>size</th>\n",
       "      <th>type</th>\n",
       "      <th>paint_color</th>\n",
       "      <th>lat</th>\n",
       "      <th>long</th>\n",
       "    </tr>\n",
       "  </thead>\n",
       "  <tbody>\n",
       "    <tr>\n",
       "      <th>2</th>\n",
       "      <td>abilene, TX</td>\n",
       "      <td>9000</td>\n",
       "      <td>2009</td>\n",
       "      <td>chevrolet</td>\n",
       "      <td>suburban lt2</td>\n",
       "      <td>good</td>\n",
       "      <td>8 cylinders</td>\n",
       "      <td>gas</td>\n",
       "      <td>217743.0</td>\n",
       "      <td>clean</td>\n",
       "      <td>automatic</td>\n",
       "      <td>1GFNC26099R211276</td>\n",
       "      <td>rwd</td>\n",
       "      <td>full-size</td>\n",
       "      <td>SUV</td>\n",
       "      <td>white</td>\n",
       "      <td>33.130100</td>\n",
       "      <td>-100.234400</td>\n",
       "    </tr>\n",
       "    <tr>\n",
       "      <th>9</th>\n",
       "      <td>abilene, TX</td>\n",
       "      <td>19950</td>\n",
       "      <td>2013</td>\n",
       "      <td>ford</td>\n",
       "      <td>f-250</td>\n",
       "      <td>Unknown</td>\n",
       "      <td>8 cylinders</td>\n",
       "      <td>gas</td>\n",
       "      <td>116792.0</td>\n",
       "      <td>clean</td>\n",
       "      <td>automatic</td>\n",
       "      <td>1FT7W2B6XDEA83407</td>\n",
       "      <td>4wd</td>\n",
       "      <td>full-size</td>\n",
       "      <td>pickup</td>\n",
       "      <td>white</td>\n",
       "      <td>32.736030</td>\n",
       "      <td>-97.133644</td>\n",
       "    </tr>\n",
       "    <tr>\n",
       "      <th>12</th>\n",
       "      <td>abilene, TX</td>\n",
       "      <td>39950</td>\n",
       "      <td>2018</td>\n",
       "      <td>ford</td>\n",
       "      <td>f-450 chassis</td>\n",
       "      <td>Unknown</td>\n",
       "      <td>8 cylinders</td>\n",
       "      <td>diesel</td>\n",
       "      <td>85977.0</td>\n",
       "      <td>clean</td>\n",
       "      <td>automatic</td>\n",
       "      <td>1FD0X4HT8JED02864</td>\n",
       "      <td>4wd</td>\n",
       "      <td>Unknown</td>\n",
       "      <td>truck</td>\n",
       "      <td>white</td>\n",
       "      <td>32.736075</td>\n",
       "      <td>-97.133520</td>\n",
       "    </tr>\n",
       "    <tr>\n",
       "      <th>14</th>\n",
       "      <td>abilene, TX</td>\n",
       "      <td>33950</td>\n",
       "      <td>2015</td>\n",
       "      <td>ford</td>\n",
       "      <td>f-350</td>\n",
       "      <td>Unknown</td>\n",
       "      <td>8 cylinders</td>\n",
       "      <td>diesel</td>\n",
       "      <td>77350.0</td>\n",
       "      <td>clean</td>\n",
       "      <td>automatic</td>\n",
       "      <td>1FT8W3BT8FEA10264</td>\n",
       "      <td>4wd</td>\n",
       "      <td>full-size</td>\n",
       "      <td>pickup</td>\n",
       "      <td>white</td>\n",
       "      <td>32.754000</td>\n",
       "      <td>-97.134800</td>\n",
       "    </tr>\n",
       "    <tr>\n",
       "      <th>15</th>\n",
       "      <td>abilene, TX</td>\n",
       "      <td>3795</td>\n",
       "      <td>2004</td>\n",
       "      <td>toyota</td>\n",
       "      <td>corolla ce</td>\n",
       "      <td>good</td>\n",
       "      <td>4 cylinders</td>\n",
       "      <td>gas</td>\n",
       "      <td>186300.0</td>\n",
       "      <td>clean</td>\n",
       "      <td>automatic</td>\n",
       "      <td>1NXBR32E44Z323738</td>\n",
       "      <td>fwd</td>\n",
       "      <td>mid-size</td>\n",
       "      <td>sedan</td>\n",
       "      <td>brown</td>\n",
       "      <td>32.275053</td>\n",
       "      <td>-99.528998</td>\n",
       "    </tr>\n",
       "  </tbody>\n",
       "</table>\n",
       "</div>"
      ],
      "text/plain": [
       "           city  price  year manufacturer           make condition  \\\n",
       "2   abilene, TX   9000  2009    chevrolet   suburban lt2      good   \n",
       "9   abilene, TX  19950  2013         ford          f-250   Unknown   \n",
       "12  abilene, TX  39950  2018         ford  f-450 chassis   Unknown   \n",
       "14  abilene, TX  33950  2015         ford          f-350   Unknown   \n",
       "15  abilene, TX   3795  2004       toyota     corolla ce      good   \n",
       "\n",
       "      cylinders    fuel  odometer title_status transmission  \\\n",
       "2   8 cylinders     gas  217743.0        clean    automatic   \n",
       "9   8 cylinders     gas  116792.0        clean    automatic   \n",
       "12  8 cylinders  diesel   85977.0        clean    automatic   \n",
       "14  8 cylinders  diesel   77350.0        clean    automatic   \n",
       "15  4 cylinders     gas  186300.0        clean    automatic   \n",
       "\n",
       "                  VIN drive       size    type paint_color        lat  \\\n",
       "2   1GFNC26099R211276   rwd  full-size     SUV       white  33.130100   \n",
       "9   1FT7W2B6XDEA83407   4wd  full-size  pickup       white  32.736030   \n",
       "12  1FD0X4HT8JED02864   4wd    Unknown   truck       white  32.736075   \n",
       "14  1FT8W3BT8FEA10264   4wd  full-size  pickup       white  32.754000   \n",
       "15  1NXBR32E44Z323738   fwd   mid-size   sedan       brown  32.275053   \n",
       "\n",
       "          long  \n",
       "2  -100.234400  \n",
       "9   -97.133644  \n",
       "12  -97.133520  \n",
       "14  -97.134800  \n",
       "15  -99.528998  "
      ]
     },
     "execution_count": 57,
     "metadata": {},
     "output_type": "execute_result"
    }
   ],
   "source": [
    "df.head()"
   ]
  },
  {
   "cell_type": "code",
   "execution_count": 58,
   "metadata": {},
   "outputs": [
    {
     "data": {
      "text/plain": [
       "city\n",
       "SF bay area               1175\n",
       "abilene, TX                130\n",
       "akron / canton            1031\n",
       "albany, GA                  54\n",
       "albany, NY                 950\n",
       "albuquerque                698\n",
       "altoona-johnstown           80\n",
       "amarillo, TX               106\n",
       "ames, IA                   107\n",
       "anchorage / mat-su        1422\n",
       "ann arbor, MI              226\n",
       "annapolis, MD              139\n",
       "appleton-oshkosh-FDL       898\n",
       "asheville, NC              745\n",
       "ashtabula, OH               85\n",
       "athens, GA                 197\n",
       "athens, OH                  12\n",
       "atlanta, GA                846\n",
       "auburn, AL                  21\n",
       "augusta, GA                244\n",
       "austin, TX                 872\n",
       "bakersfield, CA           1029\n",
       "baltimore, MD              837\n",
       "baton rouge                257\n",
       "battle creek, MI           234\n",
       "beaumont / port arthur      24\n",
       "bellingham, WA            1499\n",
       "bemidji, MN                198\n",
       "bend, OR                   829\n",
       "billings, MT               318\n",
       "                          ... \n",
       "ventura county            1133\n",
       "vermont                   1311\n",
       "victoria, TX                38\n",
       "visalia-tulare             325\n",
       "waco, TX                   164\n",
       "washington, DC             934\n",
       "waterloo / cedar falls     400\n",
       "watertown, NY              213\n",
       "wausau, WI                 289\n",
       "wenatchee, WA              789\n",
       "west virginia (old)         11\n",
       "western IL                  17\n",
       "western KY                  33\n",
       "western maryland            79\n",
       "western massachusetts      733\n",
       "western slope              504\n",
       "wichita falls, TX           89\n",
       "wichita, KS                695\n",
       "williamsport, PA            74\n",
       "wilmington, NC             732\n",
       "winchester, VA             340\n",
       "winston-salem, NC          678\n",
       "worcester / central MA     930\n",
       "wyoming                    436\n",
       "yakima, WA                 831\n",
       "york, PA                   576\n",
       "youngstown, OH             297\n",
       "yuba-sutter, CA            466\n",
       "yuma, AZ                   131\n",
       "zanesville / cambridge      20\n",
       "Name: city, Length: 413, dtype: int64"
      ]
     },
     "execution_count": 58,
     "metadata": {},
     "output_type": "execute_result"
    }
   ],
   "source": [
    "df.groupby('city')['city'].count()"
   ]
  },
  {
   "cell_type": "code",
   "execution_count": 59,
   "metadata": {},
   "outputs": [],
   "source": [
    "df1 = df['city'].str.split(\",\", n = 1, expand = True)"
   ]
  },
  {
   "cell_type": "code",
   "execution_count": 60,
   "metadata": {},
   "outputs": [],
   "source": [
    "df['City'] = df1[0]"
   ]
  },
  {
   "cell_type": "code",
   "execution_count": 61,
   "metadata": {},
   "outputs": [],
   "source": [
    "df['Other'] = df1[1]"
   ]
  },
  {
   "cell_type": "code",
   "execution_count": 62,
   "metadata": {},
   "outputs": [],
   "source": [
    "df.to_excel(\"CleanedData.xlsx\",\n",
    "            sheet_name='CD') "
   ]
  },
  {
   "cell_type": "code",
   "execution_count": 63,
   "metadata": {},
   "outputs": [],
   "source": [
    "dfnew = pd.read_excel('CleanedData.xlsx', index_col=0)"
   ]
  },
  {
   "cell_type": "markdown",
   "metadata": {},
   "source": [
    "##def checkstatecode(string):\n",
    "    states = {\n",
    "        'AK',\n",
    "        'AL',\n",
    "        'AR',\n",
    "        'AS',\n",
    "        'AZ',\n",
    "        'CA',\n",
    "        'CO',\n",
    "        'CT',\n",
    "        'DC',\n",
    "        'DE',\n",
    "        'FL',\n",
    "        'GA',\n",
    "        'GU': 'Guam',\n",
    "        'HI': 'Hawaii',\n",
    "        'IA': 'Iowa',\n",
    "        'ID': 'Idaho',\n",
    "        'IL': 'Illinois',\n",
    "        'IN': 'Indiana',\n",
    "        'KS': 'Kansas',\n",
    "        'KY': 'Kentucky',\n",
    "        'LA': 'Louisiana',\n",
    "        'MA': 'Massachusetts',\n",
    "        'MD': 'Maryland',\n",
    "        'ME': 'Maine',\n",
    "        'MI': 'Michigan',\n",
    "        'MN': 'Minnesota',\n",
    "        'MO': 'Missouri',\n",
    "        'MP': 'Northern Mariana Islands',\n",
    "        'MS': 'Mississippi',\n",
    "        'MT': 'Montana',\n",
    "        'NA': 'National',\n",
    "        'NC': 'North Carolina',\n",
    "        'ND': 'North Dakota',\n",
    "        'NE': 'Nebraska',\n",
    "        'NH': 'New Hampshire',\n",
    "        'NJ': 'New Jersey',\n",
    "        'NM': 'New Mexico',\n",
    "        'NV': 'Nevada',\n",
    "        'NY': 'New York',\n",
    "        'OH': 'Ohio',\n",
    "        'OK': 'Oklahoma',\n",
    "        'OR': 'Oregon',\n",
    "        'PA': 'Pennsylvania',\n",
    "        'PR': 'Puerto Rico',\n",
    "        'RI': 'Rhode Island',\n",
    "        'SC': 'South Carolina',\n",
    "        'SD': 'South Dakota',\n",
    "        'TN': 'Tennessee',\n",
    "        'TX': 'Texas',\n",
    "        'UT': 'Utah',\n",
    "        'VA': 'Virginia',\n",
    "        'VI': 'Virgin Islands',\n",
    "        'VT': 'Vermont',\n",
    "        'WA': 'Washington',\n",
    "        'WI': 'Wisconsin',\n",
    "        'WV': 'West Virginia',\n",
    "        'WY': 'Wyoming'\n",
    "    lst = [\"a\", \"b\", \"c\"]\n",
    "##if any(s in line for s in lst):\n",
    "    \n"
   ]
  },
  {
   "cell_type": "code",
   "execution_count": 64,
   "metadata": {},
   "outputs": [],
   "source": [
    "import seaborn as sns"
   ]
  },
  {
   "cell_type": "code",
   "execution_count": 65,
   "metadata": {},
   "outputs": [
    {
     "data": {
      "text/html": [
       "<div>\n",
       "<style scoped>\n",
       "    .dataframe tbody tr th:only-of-type {\n",
       "        vertical-align: middle;\n",
       "    }\n",
       "\n",
       "    .dataframe tbody tr th {\n",
       "        vertical-align: top;\n",
       "    }\n",
       "\n",
       "    .dataframe thead th {\n",
       "        text-align: right;\n",
       "    }\n",
       "</style>\n",
       "<table border=\"1\" class=\"dataframe\">\n",
       "  <thead>\n",
       "    <tr style=\"text-align: right;\">\n",
       "      <th></th>\n",
       "      <th>city</th>\n",
       "      <th>price</th>\n",
       "      <th>year</th>\n",
       "      <th>manufacturer</th>\n",
       "      <th>make</th>\n",
       "      <th>condition</th>\n",
       "      <th>cylinders</th>\n",
       "      <th>fuel</th>\n",
       "      <th>odometer</th>\n",
       "      <th>title_status</th>\n",
       "      <th>transmission</th>\n",
       "      <th>VIN</th>\n",
       "      <th>drive</th>\n",
       "      <th>size</th>\n",
       "      <th>type</th>\n",
       "      <th>paint_color</th>\n",
       "      <th>lat</th>\n",
       "      <th>long</th>\n",
       "      <th>City</th>\n",
       "      <th>Other</th>\n",
       "    </tr>\n",
       "  </thead>\n",
       "  <tbody>\n",
       "    <tr>\n",
       "      <th>2</th>\n",
       "      <td>abilene, TX</td>\n",
       "      <td>9000</td>\n",
       "      <td>2009</td>\n",
       "      <td>chevrolet</td>\n",
       "      <td>suburban lt2</td>\n",
       "      <td>good</td>\n",
       "      <td>8 cylinders</td>\n",
       "      <td>gas</td>\n",
       "      <td>217743.0</td>\n",
       "      <td>clean</td>\n",
       "      <td>automatic</td>\n",
       "      <td>1GFNC26099R211276</td>\n",
       "      <td>rwd</td>\n",
       "      <td>full-size</td>\n",
       "      <td>SUV</td>\n",
       "      <td>white</td>\n",
       "      <td>33.130100</td>\n",
       "      <td>-100.234400</td>\n",
       "      <td>abilene</td>\n",
       "      <td>TX</td>\n",
       "    </tr>\n",
       "    <tr>\n",
       "      <th>9</th>\n",
       "      <td>abilene, TX</td>\n",
       "      <td>19950</td>\n",
       "      <td>2013</td>\n",
       "      <td>ford</td>\n",
       "      <td>f-250</td>\n",
       "      <td>Unknown</td>\n",
       "      <td>8 cylinders</td>\n",
       "      <td>gas</td>\n",
       "      <td>116792.0</td>\n",
       "      <td>clean</td>\n",
       "      <td>automatic</td>\n",
       "      <td>1FT7W2B6XDEA83407</td>\n",
       "      <td>4wd</td>\n",
       "      <td>full-size</td>\n",
       "      <td>pickup</td>\n",
       "      <td>white</td>\n",
       "      <td>32.736030</td>\n",
       "      <td>-97.133644</td>\n",
       "      <td>abilene</td>\n",
       "      <td>TX</td>\n",
       "    </tr>\n",
       "    <tr>\n",
       "      <th>12</th>\n",
       "      <td>abilene, TX</td>\n",
       "      <td>39950</td>\n",
       "      <td>2018</td>\n",
       "      <td>ford</td>\n",
       "      <td>f-450 chassis</td>\n",
       "      <td>Unknown</td>\n",
       "      <td>8 cylinders</td>\n",
       "      <td>diesel</td>\n",
       "      <td>85977.0</td>\n",
       "      <td>clean</td>\n",
       "      <td>automatic</td>\n",
       "      <td>1FD0X4HT8JED02864</td>\n",
       "      <td>4wd</td>\n",
       "      <td>Unknown</td>\n",
       "      <td>truck</td>\n",
       "      <td>white</td>\n",
       "      <td>32.736075</td>\n",
       "      <td>-97.133520</td>\n",
       "      <td>abilene</td>\n",
       "      <td>TX</td>\n",
       "    </tr>\n",
       "    <tr>\n",
       "      <th>14</th>\n",
       "      <td>abilene, TX</td>\n",
       "      <td>33950</td>\n",
       "      <td>2015</td>\n",
       "      <td>ford</td>\n",
       "      <td>f-350</td>\n",
       "      <td>Unknown</td>\n",
       "      <td>8 cylinders</td>\n",
       "      <td>diesel</td>\n",
       "      <td>77350.0</td>\n",
       "      <td>clean</td>\n",
       "      <td>automatic</td>\n",
       "      <td>1FT8W3BT8FEA10264</td>\n",
       "      <td>4wd</td>\n",
       "      <td>full-size</td>\n",
       "      <td>pickup</td>\n",
       "      <td>white</td>\n",
       "      <td>32.754000</td>\n",
       "      <td>-97.134800</td>\n",
       "      <td>abilene</td>\n",
       "      <td>TX</td>\n",
       "    </tr>\n",
       "    <tr>\n",
       "      <th>15</th>\n",
       "      <td>abilene, TX</td>\n",
       "      <td>3795</td>\n",
       "      <td>2004</td>\n",
       "      <td>toyota</td>\n",
       "      <td>corolla ce</td>\n",
       "      <td>good</td>\n",
       "      <td>4 cylinders</td>\n",
       "      <td>gas</td>\n",
       "      <td>186300.0</td>\n",
       "      <td>clean</td>\n",
       "      <td>automatic</td>\n",
       "      <td>1NXBR32E44Z323738</td>\n",
       "      <td>fwd</td>\n",
       "      <td>mid-size</td>\n",
       "      <td>sedan</td>\n",
       "      <td>brown</td>\n",
       "      <td>32.275053</td>\n",
       "      <td>-99.528998</td>\n",
       "      <td>abilene</td>\n",
       "      <td>TX</td>\n",
       "    </tr>\n",
       "  </tbody>\n",
       "</table>\n",
       "</div>"
      ],
      "text/plain": [
       "           city  price  year manufacturer           make condition  \\\n",
       "2   abilene, TX   9000  2009    chevrolet   suburban lt2      good   \n",
       "9   abilene, TX  19950  2013         ford          f-250   Unknown   \n",
       "12  abilene, TX  39950  2018         ford  f-450 chassis   Unknown   \n",
       "14  abilene, TX  33950  2015         ford          f-350   Unknown   \n",
       "15  abilene, TX   3795  2004       toyota     corolla ce      good   \n",
       "\n",
       "      cylinders    fuel  odometer title_status transmission  \\\n",
       "2   8 cylinders     gas  217743.0        clean    automatic   \n",
       "9   8 cylinders     gas  116792.0        clean    automatic   \n",
       "12  8 cylinders  diesel   85977.0        clean    automatic   \n",
       "14  8 cylinders  diesel   77350.0        clean    automatic   \n",
       "15  4 cylinders     gas  186300.0        clean    automatic   \n",
       "\n",
       "                  VIN drive       size    type paint_color        lat  \\\n",
       "2   1GFNC26099R211276   rwd  full-size     SUV       white  33.130100   \n",
       "9   1FT7W2B6XDEA83407   4wd  full-size  pickup       white  32.736030   \n",
       "12  1FD0X4HT8JED02864   4wd    Unknown   truck       white  32.736075   \n",
       "14  1FT8W3BT8FEA10264   4wd  full-size  pickup       white  32.754000   \n",
       "15  1NXBR32E44Z323738   fwd   mid-size   sedan       brown  32.275053   \n",
       "\n",
       "          long     City Other  \n",
       "2  -100.234400  abilene    TX  \n",
       "9   -97.133644  abilene    TX  \n",
       "12  -97.133520  abilene    TX  \n",
       "14  -97.134800  abilene    TX  \n",
       "15  -99.528998  abilene    TX  "
      ]
     },
     "execution_count": 65,
     "metadata": {},
     "output_type": "execute_result"
    }
   ],
   "source": [
    "dfnew.head()"
   ]
  },
  {
   "cell_type": "markdown",
   "metadata": {},
   "source": [
    "**Ford and chevrolet stand at Top 2 positions as as far as the count of used cars are concerned**"
   ]
  },
  {
   "cell_type": "code",
   "execution_count": 66,
   "metadata": {},
   "outputs": [
    {
     "data": {
      "text/plain": [
       "<matplotlib.axes._subplots.AxesSubplot at 0x16384454550>"
      ]
     },
     "execution_count": 66,
     "metadata": {},
     "output_type": "execute_result"
    },
    {
     "data": {
      "image/png": "[encoded data removed]",
      "text/plain": [
       "<Figure size 432x288 with 1 Axes>"
      ]
     },
     "metadata": {
      "needs_background": "light"
     },
     "output_type": "display_data"
    }
   ],
   "source": [
    "sns.countplot(y='manufacturer', data=dfnew)"
   ]
  },
  {
   "cell_type": "markdown",
   "metadata": {},
   "source": [
    "**The count of used cars has been rising exponentially over the years, however it was the maximum in 2016 and dropped after 2016**"
   ]
  },
  {
   "cell_type": "code",
   "execution_count": 67,
   "metadata": {},
   "outputs": [
    {
     "data": {
      "text/plain": [
       "year\n",
       "1991      203\n",
       "1992      212\n",
       "1993      247\n",
       "1994      290\n",
       "1995      416\n",
       "1996      415\n",
       "1997      657\n",
       "1998      768\n",
       "1999     1189\n",
       "2000     1518\n",
       "2001     1962\n",
       "2002     2538\n",
       "2003     3276\n",
       "2004     4211\n",
       "2005     5377\n",
       "2006     6521\n",
       "2007     8182\n",
       "2008     8870\n",
       "2009     6065\n",
       "2010     8259\n",
       "2011    10634\n",
       "2012    11528\n",
       "2013    12760\n",
       "2014    13146\n",
       "2015    15020\n",
       "2016    17863\n",
       "2017    11777\n",
       "2018     9139\n",
       "2019     2685\n",
       "2020       62\n",
       "Name: year, dtype: int64"
      ]
     },
     "execution_count": 67,
     "metadata": {},
     "output_type": "execute_result"
    }
   ],
   "source": [
    "dfnew.groupby('year')['year'].count()"
   ]
  },
  {
   "cell_type": "code",
   "execution_count": 77,
   "metadata": {},
   "outputs": [
    {
     "data": {
      "text/plain": [
       "<matplotlib.axes._subplots.AxesSubplot at 0x163e9a608d0>"
      ]
     },
     "execution_count": 77,
     "metadata": {},
     "output_type": "execute_result"
    },
    {
     "data": {
      "image/png": "[encoded data removed]",
      "text/plain": [
       "<Figure size 432x288 with 1 Axes>"
      ]
     },
     "metadata": {
      "needs_background": "light"
     },
     "output_type": "display_data"
    }
   ],
   "source": [
    "sns.countplot(x='year', data=dfnew)"
   ]
  },
  {
   "cell_type": "markdown",
   "metadata": {},
   "source": [
    "**The count of used cars as per the fuel category. It's highest for 'gas'**"
   ]
  },
  {
   "cell_type": "code",
   "execution_count": 69,
   "metadata": {},
   "outputs": [
    {
     "data": {
      "text/plain": [
       "array(['gas', 'diesel', 'hybrid', 'electric', 'other'], dtype=object)"
      ]
     },
     "execution_count": 69,
     "metadata": {},
     "output_type": "execute_result"
    }
   ],
   "source": [
    "dfnew['fuel'].unique()"
   ]
  },
  {
   "cell_type": "code",
   "execution_count": 70,
   "metadata": {},
   "outputs": [
    {
     "data": {
      "text/plain": [
       "<matplotlib.axes._subplots.AxesSubplot at 0x163fab278d0>"
      ]
     },
     "execution_count": 70,
     "metadata": {},
     "output_type": "execute_result"
    },
    {
     "data": {
      "image/png": "[encoded data removed]",
      "text/plain": [
       "<Figure size 432x288 with 1 Axes>"
      ]
     },
     "metadata": {
      "needs_background": "light"
     },
     "output_type": "display_data"
    }
   ],
   "source": [
    "sns.countplot(x='fuel', data=dfnew)"
   ]
  },
  {
   "cell_type": "code",
   "execution_count": 71,
   "metadata": {},
   "outputs": [
    {
     "name": "stderr",
     "output_type": "stream",
     "text": [
      "C:\\Users\\Nachiket\\Anaconda3\\lib\\site-packages\\seaborn\\categorical.py:3666: UserWarning: The `factorplot` function has been renamed to `catplot`. The original name will be removed in a future release. Please update your code. Note that the default `kind` in `factorplot` (`'point'`) has changed `'strip'` in `catplot`.\n",
      "  warnings.warn(msg)\n"
     ]
    },
    {
     "data": {
      "text/plain": [
       "<seaborn.axisgrid.FacetGrid at 0x1638a55ada0>"
      ]
     },
     "execution_count": 71,
     "metadata": {},
     "output_type": "execute_result"
    },
    {
     "data": {
      "image/png": "[encoded data removed]",
      "text/plain": [
       "<Figure size 720x360 with 1 Axes>"
      ]
     },
     "metadata": {
      "needs_background": "light"
     },
     "output_type": "display_data"
    }
   ],
   "source": [
    "sns.factorplot(y='fuel', data=dfnew, x='price',aspect=2)"
   ]
  },
  {
   "cell_type": "code",
   "execution_count": 76,
   "metadata": {},
   "outputs": [
    {
     "name": "stderr",
     "output_type": "stream",
     "text": [
      "C:\\Users\\Nachiket\\Anaconda3\\lib\\site-packages\\seaborn\\categorical.py:3666: UserWarning: The `factorplot` function has been renamed to `catplot`. The original name will be removed in a future release. Please update your code. Note that the default `kind` in `factorplot` (`'point'`) has changed `'strip'` in `catplot`.\n",
      "  warnings.warn(msg)\n"
     ]
    },
    {
     "data": {
      "text/plain": [
       "<seaborn.axisgrid.FacetGrid at 0x163f7ab4e80>"
      ]
     },
     "execution_count": 76,
     "metadata": {},
     "output_type": "execute_result"
    },
    {
     "data": {
      "image/png": "[encoded data removed]",
      "text/plain": [
       "<Figure size 720x360 with 1 Axes>"
      ]
     },
     "metadata": {
      "needs_background": "light"
     },
     "output_type": "display_data"
    }
   ],
   "source": [
    "sns.factorplot(y='condition', data=dfnew, x='price',aspect=2)"
   ]
  },
  {
   "cell_type": "code",
   "execution_count": 73,
   "metadata": {},
   "outputs": [
    {
     "data": {
      "text/html": [
       "<div>\n",
       "<style scoped>\n",
       "    .dataframe tbody tr th:only-of-type {\n",
       "        vertical-align: middle;\n",
       "    }\n",
       "\n",
       "    .dataframe tbody tr th {\n",
       "        vertical-align: top;\n",
       "    }\n",
       "\n",
       "    .dataframe thead th {\n",
       "        text-align: right;\n",
       "    }\n",
       "</style>\n",
       "<table border=\"1\" class=\"dataframe\">\n",
       "  <thead>\n",
       "    <tr style=\"text-align: right;\">\n",
       "      <th></th>\n",
       "      <th>city</th>\n",
       "      <th>price</th>\n",
       "      <th>year</th>\n",
       "      <th>manufacturer</th>\n",
       "      <th>make</th>\n",
       "      <th>condition</th>\n",
       "      <th>cylinders</th>\n",
       "      <th>fuel</th>\n",
       "      <th>odometer</th>\n",
       "      <th>title_status</th>\n",
       "      <th>transmission</th>\n",
       "      <th>VIN</th>\n",
       "      <th>drive</th>\n",
       "      <th>size</th>\n",
       "      <th>type</th>\n",
       "      <th>paint_color</th>\n",
       "      <th>lat</th>\n",
       "      <th>long</th>\n",
       "      <th>City</th>\n",
       "      <th>Other</th>\n",
       "    </tr>\n",
       "  </thead>\n",
       "  <tbody>\n",
       "    <tr>\n",
       "      <th>2</th>\n",
       "      <td>abilene, TX</td>\n",
       "      <td>9000</td>\n",
       "      <td>2009</td>\n",
       "      <td>chevrolet</td>\n",
       "      <td>suburban lt2</td>\n",
       "      <td>good</td>\n",
       "      <td>8 cylinders</td>\n",
       "      <td>gas</td>\n",
       "      <td>217743.0</td>\n",
       "      <td>clean</td>\n",
       "      <td>automatic</td>\n",
       "      <td>1GFNC26099R211276</td>\n",
       "      <td>rwd</td>\n",
       "      <td>full-size</td>\n",
       "      <td>SUV</td>\n",
       "      <td>white</td>\n",
       "      <td>33.130100</td>\n",
       "      <td>-100.234400</td>\n",
       "      <td>abilene</td>\n",
       "      <td>TX</td>\n",
       "    </tr>\n",
       "    <tr>\n",
       "      <th>9</th>\n",
       "      <td>abilene, TX</td>\n",
       "      <td>19950</td>\n",
       "      <td>2013</td>\n",
       "      <td>ford</td>\n",
       "      <td>f-250</td>\n",
       "      <td>Unknown</td>\n",
       "      <td>8 cylinders</td>\n",
       "      <td>gas</td>\n",
       "      <td>116792.0</td>\n",
       "      <td>clean</td>\n",
       "      <td>automatic</td>\n",
       "      <td>1FT7W2B6XDEA83407</td>\n",
       "      <td>4wd</td>\n",
       "      <td>full-size</td>\n",
       "      <td>pickup</td>\n",
       "      <td>white</td>\n",
       "      <td>32.736030</td>\n",
       "      <td>-97.133644</td>\n",
       "      <td>abilene</td>\n",
       "      <td>TX</td>\n",
       "    </tr>\n",
       "    <tr>\n",
       "      <th>12</th>\n",
       "      <td>abilene, TX</td>\n",
       "      <td>39950</td>\n",
       "      <td>2018</td>\n",
       "      <td>ford</td>\n",
       "      <td>f-450 chassis</td>\n",
       "      <td>Unknown</td>\n",
       "      <td>8 cylinders</td>\n",
       "      <td>diesel</td>\n",
       "      <td>85977.0</td>\n",
       "      <td>clean</td>\n",
       "      <td>automatic</td>\n",
       "      <td>1FD0X4HT8JED02864</td>\n",
       "      <td>4wd</td>\n",
       "      <td>Unknown</td>\n",
       "      <td>truck</td>\n",
       "      <td>white</td>\n",
       "      <td>32.736075</td>\n",
       "      <td>-97.133520</td>\n",
       "      <td>abilene</td>\n",
       "      <td>TX</td>\n",
       "    </tr>\n",
       "    <tr>\n",
       "      <th>14</th>\n",
       "      <td>abilene, TX</td>\n",
       "      <td>33950</td>\n",
       "      <td>2015</td>\n",
       "      <td>ford</td>\n",
       "      <td>f-350</td>\n",
       "      <td>Unknown</td>\n",
       "      <td>8 cylinders</td>\n",
       "      <td>diesel</td>\n",
       "      <td>77350.0</td>\n",
       "      <td>clean</td>\n",
       "      <td>automatic</td>\n",
       "      <td>1FT8W3BT8FEA10264</td>\n",
       "      <td>4wd</td>\n",
       "      <td>full-size</td>\n",
       "      <td>pickup</td>\n",
       "      <td>white</td>\n",
       "      <td>32.754000</td>\n",
       "      <td>-97.134800</td>\n",
       "      <td>abilene</td>\n",
       "      <td>TX</td>\n",
       "    </tr>\n",
       "    <tr>\n",
       "      <th>15</th>\n",
       "      <td>abilene, TX</td>\n",
       "      <td>3795</td>\n",
       "      <td>2004</td>\n",
       "      <td>toyota</td>\n",
       "      <td>corolla ce</td>\n",
       "      <td>good</td>\n",
       "      <td>4 cylinders</td>\n",
       "      <td>gas</td>\n",
       "      <td>186300.0</td>\n",
       "      <td>clean</td>\n",
       "      <td>automatic</td>\n",
       "      <td>1NXBR32E44Z323738</td>\n",
       "      <td>fwd</td>\n",
       "      <td>mid-size</td>\n",
       "      <td>sedan</td>\n",
       "      <td>brown</td>\n",
       "      <td>32.275053</td>\n",
       "      <td>-99.528998</td>\n",
       "      <td>abilene</td>\n",
       "      <td>TX</td>\n",
       "    </tr>\n",
       "  </tbody>\n",
       "</table>\n",
       "</div>"
      ],
      "text/plain": [
       "           city  price  year manufacturer           make condition  \\\n",
       "2   abilene, TX   9000  2009    chevrolet   suburban lt2      good   \n",
       "9   abilene, TX  19950  2013         ford          f-250   Unknown   \n",
       "12  abilene, TX  39950  2018         ford  f-450 chassis   Unknown   \n",
       "14  abilene, TX  33950  2015         ford          f-350   Unknown   \n",
       "15  abilene, TX   3795  2004       toyota     corolla ce      good   \n",
       "\n",
       "      cylinders    fuel  odometer title_status transmission  \\\n",
       "2   8 cylinders     gas  217743.0        clean    automatic   \n",
       "9   8 cylinders     gas  116792.0        clean    automatic   \n",
       "12  8 cylinders  diesel   85977.0        clean    automatic   \n",
       "14  8 cylinders  diesel   77350.0        clean    automatic   \n",
       "15  4 cylinders     gas  186300.0        clean    automatic   \n",
       "\n",
       "                  VIN drive       size    type paint_color        lat  \\\n",
       "2   1GFNC26099R211276   rwd  full-size     SUV       white  33.130100   \n",
       "9   1FT7W2B6XDEA83407   4wd  full-size  pickup       white  32.736030   \n",
       "12  1FD0X4HT8JED02864   4wd    Unknown   truck       white  32.736075   \n",
       "14  1FT8W3BT8FEA10264   4wd  full-size  pickup       white  32.754000   \n",
       "15  1NXBR32E44Z323738   fwd   mid-size   sedan       brown  32.275053   \n",
       "\n",
       "          long     City Other  \n",
       "2  -100.234400  abilene    TX  \n",
       "9   -97.133644  abilene    TX  \n",
       "12  -97.133520  abilene    TX  \n",
       "14  -97.134800  abilene    TX  \n",
       "15  -99.528998  abilene    TX  "
      ]
     },
     "execution_count": 73,
     "metadata": {},
     "output_type": "execute_result"
    }
   ],
   "source": [
    "dfnew.head()"
   ]
  },
  {
   "cell_type": "markdown",
   "metadata": {},
   "source": [
    "**The average resell price for the automatic transmission cars is almost three times the average price for the manual transmission car**"
   ]
  },
  {
   "cell_type": "code",
   "execution_count": 74,
   "metadata": {},
   "outputs": [
    {
     "name": "stderr",
     "output_type": "stream",
     "text": [
      "C:\\Users\\Nachiket\\Anaconda3\\lib\\site-packages\\seaborn\\categorical.py:3666: UserWarning: The `factorplot` function has been renamed to `catplot`. The original name will be removed in a future release. Please update your code. Note that the default `kind` in `factorplot` (`'point'`) has changed `'strip'` in `catplot`.\n",
      "  warnings.warn(msg)\n"
     ]
    },
    {
     "data": {
      "text/plain": [
       "<seaborn.axisgrid.FacetGrid at 0x163ea231cf8>"
      ]
     },
     "execution_count": 74,
     "metadata": {},
     "output_type": "execute_result"
    },
    {
     "data": {
      "image/png": "[encoded data removed]",
      "text/plain": [
       "<Figure size 360x360 with 1 Axes>"
      ]
     },
     "metadata": {
      "needs_background": "light"
     },
     "output_type": "display_data"
    }
   ],
   "source": [
    "sns.factorplot(y='price', data=dfnew, x='transmission',\\\n",
    "               aspect=1, kind='bar')"
   ]
  },
  {
   "cell_type": "markdown",
   "metadata": {},
   "source": [
    "**Apply 'Random Forest Classifier' regression model**"
   ]
  },
  {
   "cell_type": "code",
   "execution_count": 75,
   "metadata": {},
   "outputs": [],
   "source": [
    "from sklearn.ensemble import RandomForestRegressor\n",
    "from sklearn.model_selection import train_test_split\n",
    "from sklearn.metrics import mean_absolute_error\n",
    "from sklearn import preprocessing"
   ]
  },
  {
   "cell_type": "code",
   "execution_count": 78,
   "metadata": {},
   "outputs": [
    {
     "name": "stderr",
     "output_type": "stream",
     "text": [
      "C:\\Users\\Nachiket\\Anaconda3\\lib\\site-packages\\sklearn\\ensemble\\forest.py:246: FutureWarning: The default value of n_estimators will change from 10 in version 0.20 to 100 in 0.22.\n",
      "  \"10 in version 0.20 to 100 in 0.22.\", FutureWarning)\n"
     ]
    },
    {
     "data": {
      "text/plain": [
       "RandomForestRegressor(bootstrap=True, criterion='mse', max_depth=None,\n",
       "           max_features='auto', max_leaf_nodes=None,\n",
       "           min_impurity_decrease=0.0, min_impurity_split=None,\n",
       "           min_samples_leaf=1, min_samples_split=2,\n",
       "           min_weight_fraction_leaf=0.0, n_estimators=10, n_jobs=None,\n",
       "           oob_score=False, random_state=1, verbose=0, warm_start=False)"
      ]
     },
     "execution_count": 78,
     "metadata": {},
     "output_type": "execute_result"
    }
   ],
   "source": [
    "### Data Modelling ###\n",
    "# Setting the prediction target\n",
    "y = dfnew.price\n",
    "\n",
    "# Feature Selection\n",
    "used_car_features = ['year', 'odometer', 'manufacturer', 'make', 'transmission','lat','long','fuel']\n",
    "X = dfnew[used_car_features]\n",
    "# Need to convert string to float\n",
    "le = preprocessing.LabelEncoder()\n",
    "X = X.apply(le.fit_transform)\n",
    "\n",
    "# Split training and testing data\n",
    "train_X, val_X, train_y, val_y = train_test_split(X, y, random_state=0)\n",
    "\n",
    "# Define model\n",
    "used_car_model = RandomForestRegressor(random_state=1)\n",
    "\n",
    "# Fit model\n",
    "used_car_model.fit(train_X, train_y)"
   ]
  },
  {
   "cell_type": "markdown",
   "metadata": {},
   "source": [
    "**Measure the accuracy of the model**"
   ]
  },
  {
   "cell_type": "code",
   "execution_count": 79,
   "metadata": {},
   "outputs": [
    {
     "name": "stdout",
     "output_type": "stream",
     "text": [
      "45897.167631364886\n",
      "27107.510121237712\n",
      "165790\n"
     ]
    }
   ],
   "source": [
    "### Data Evaluation ###\n",
    "val_predictions = used_car_model.predict(val_X)\n",
    "print(mean_absolute_error(val_y, val_predictions))\n",
    "print(dfnew['price'].mean())\n",
    "print(len(dfnew.index)) # Shows number of rows"
   ]
  },
  {
   "cell_type": "code",
   "execution_count": null,
   "metadata": {},
   "outputs": [],
   "source": []
  }
 ],
 "metadata": {
  "hide_code_all_hidden": false,
  "kernelspec": {
   "display_name": "Python 3",
   "language": "python",
   "name": "python3"
  },
  "language_info": {
   "codemirror_mode": {
    "name": "ipython",
    "version": 3
   },
   "file_extension": ".py",
   "mimetype": "text/x-python",
   "name": "python",
   "nbconvert_exporter": "python",
   "pygments_lexer": "ipython3",
   "version": "3.6.7"
  }
 },
 "nbformat": 4,
 "nbformat_minor": 2
}
